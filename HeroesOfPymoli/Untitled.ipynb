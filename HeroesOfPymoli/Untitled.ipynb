{
 "cells": [
  {
   "cell_type": "code",
   "execution_count": 116,
   "metadata": {},
   "outputs": [],
   "source": [
    "#dependancies\n",
    "import pandas as pd\n",
    "\n",
    "#load csv file\n",
    "file_to_load = \"Resources\\purchase_data.csv\"\n",
    "#csv data to dataframe\n",
    "purchase_data = pd.read_csv(file_to_load)"
   ]
  },
  {
   "cell_type": "code",
   "execution_count": 117,
   "metadata": {},
   "outputs": [
    {
     "data": {
      "text/html": [
       "<div>\n",
       "<style scoped>\n",
       "    .dataframe tbody tr th:only-of-type {\n",
       "        vertical-align: middle;\n",
       "    }\n",
       "\n",
       "    .dataframe tbody tr th {\n",
       "        vertical-align: top;\n",
       "    }\n",
       "\n",
       "    .dataframe thead th {\n",
       "        text-align: right;\n",
       "    }\n",
       "</style>\n",
       "<table border=\"1\" class=\"dataframe\">\n",
       "  <thead>\n",
       "    <tr style=\"text-align: right;\">\n",
       "      <th></th>\n",
       "      <th>Purchase ID</th>\n",
       "      <th>SN</th>\n",
       "      <th>Age</th>\n",
       "      <th>Gender</th>\n",
       "      <th>Item ID</th>\n",
       "      <th>Item Name</th>\n",
       "      <th>Price</th>\n",
       "    </tr>\n",
       "  </thead>\n",
       "  <tbody>\n",
       "    <tr>\n",
       "      <th>0</th>\n",
       "      <td>0</td>\n",
       "      <td>Lisim78</td>\n",
       "      <td>20</td>\n",
       "      <td>Male</td>\n",
       "      <td>108</td>\n",
       "      <td>Extraction, Quickblade Of Trembling Hands</td>\n",
       "      <td>3.53</td>\n",
       "    </tr>\n",
       "    <tr>\n",
       "      <th>1</th>\n",
       "      <td>1</td>\n",
       "      <td>Lisovynya38</td>\n",
       "      <td>40</td>\n",
       "      <td>Male</td>\n",
       "      <td>143</td>\n",
       "      <td>Frenzied Scimitar</td>\n",
       "      <td>1.56</td>\n",
       "    </tr>\n",
       "    <tr>\n",
       "      <th>2</th>\n",
       "      <td>2</td>\n",
       "      <td>Ithergue48</td>\n",
       "      <td>24</td>\n",
       "      <td>Male</td>\n",
       "      <td>92</td>\n",
       "      <td>Final Critic</td>\n",
       "      <td>4.88</td>\n",
       "    </tr>\n",
       "    <tr>\n",
       "      <th>3</th>\n",
       "      <td>3</td>\n",
       "      <td>Chamassasya86</td>\n",
       "      <td>24</td>\n",
       "      <td>Male</td>\n",
       "      <td>100</td>\n",
       "      <td>Blindscythe</td>\n",
       "      <td>3.27</td>\n",
       "    </tr>\n",
       "    <tr>\n",
       "      <th>4</th>\n",
       "      <td>4</td>\n",
       "      <td>Iskosia90</td>\n",
       "      <td>23</td>\n",
       "      <td>Male</td>\n",
       "      <td>131</td>\n",
       "      <td>Fury</td>\n",
       "      <td>1.44</td>\n",
       "    </tr>\n",
       "  </tbody>\n",
       "</table>\n",
       "</div>"
      ],
      "text/plain": [
       "   Purchase ID             SN  Age Gender  Item ID  \\\n",
       "0            0        Lisim78   20   Male      108   \n",
       "1            1    Lisovynya38   40   Male      143   \n",
       "2            2     Ithergue48   24   Male       92   \n",
       "3            3  Chamassasya86   24   Male      100   \n",
       "4            4      Iskosia90   23   Male      131   \n",
       "\n",
       "                                   Item Name  Price  \n",
       "0  Extraction, Quickblade Of Trembling Hands   3.53  \n",
       "1                          Frenzied Scimitar   1.56  \n",
       "2                               Final Critic   4.88  \n",
       "3                                Blindscythe   3.27  \n",
       "4                                       Fury   1.44  "
      ]
     },
     "execution_count": 117,
     "metadata": {},
     "output_type": "execute_result"
    }
   ],
   "source": [
    "purchase_data.head()"
   ]
  },
  {
   "cell_type": "code",
   "execution_count": 118,
   "metadata": {},
   "outputs": [
    {
     "data": {
      "text/html": [
       "<div>\n",
       "<style scoped>\n",
       "    .dataframe tbody tr th:only-of-type {\n",
       "        vertical-align: middle;\n",
       "    }\n",
       "\n",
       "    .dataframe tbody tr th {\n",
       "        vertical-align: top;\n",
       "    }\n",
       "\n",
       "    .dataframe thead th {\n",
       "        text-align: right;\n",
       "    }\n",
       "</style>\n",
       "<table border=\"1\" class=\"dataframe\">\n",
       "  <thead>\n",
       "    <tr style=\"text-align: right;\">\n",
       "      <th></th>\n",
       "      <th>Total Players</th>\n",
       "    </tr>\n",
       "  </thead>\n",
       "  <tbody>\n",
       "    <tr>\n",
       "      <th>0</th>\n",
       "      <td>576</td>\n",
       "    </tr>\n",
       "  </tbody>\n",
       "</table>\n",
       "</div>"
      ],
      "text/plain": [
       "   Total Players\n",
       "0            576"
      ]
     },
     "execution_count": 118,
     "metadata": {},
     "output_type": "execute_result"
    }
   ],
   "source": [
    "uniqueSN = purchase_data['SN'].unique()\n",
    "\n",
    "dic = {'Total Players': len(uniqueSN)}\n",
    "\n",
    "pd.DataFrame(dic, index =[0])"
   ]
  },
  {
   "cell_type": "code",
   "execution_count": 119,
   "metadata": {},
   "outputs": [],
   "source": [
    "summary = {}\n",
    "summary['Number of Unique Items'] = len(purchase_data['Item Name'].unique())"
   ]
  },
  {
   "cell_type": "code",
   "execution_count": 120,
   "metadata": {},
   "outputs": [],
   "source": [
    "summary['Average Price'] = purchase_data['Price'].mean()"
   ]
  },
  {
   "cell_type": "code",
   "execution_count": 121,
   "metadata": {},
   "outputs": [],
   "source": [
    "summary['Number of Purchases'] = len(purchase_data['Purchase ID'].unique())"
   ]
  },
  {
   "cell_type": "code",
   "execution_count": 122,
   "metadata": {},
   "outputs": [],
   "source": [
    "summary['Total Revenue'] = purchase_data['Price'].sum()"
   ]
  },
  {
   "cell_type": "code",
   "execution_count": 123,
   "metadata": {},
   "outputs": [
    {
     "data": {
      "text/html": [
       "<div>\n",
       "<style scoped>\n",
       "    .dataframe tbody tr th:only-of-type {\n",
       "        vertical-align: middle;\n",
       "    }\n",
       "\n",
       "    .dataframe tbody tr th {\n",
       "        vertical-align: top;\n",
       "    }\n",
       "\n",
       "    .dataframe thead th {\n",
       "        text-align: right;\n",
       "    }\n",
       "</style>\n",
       "<table border=\"1\" class=\"dataframe\">\n",
       "  <thead>\n",
       "    <tr style=\"text-align: right;\">\n",
       "      <th></th>\n",
       "      <th>Number of Unique Items</th>\n",
       "      <th>Average Price</th>\n",
       "      <th>Number of Purchases</th>\n",
       "      <th>Total Revenue</th>\n",
       "    </tr>\n",
       "  </thead>\n",
       "  <tbody>\n",
       "    <tr>\n",
       "      <th>0</th>\n",
       "      <td>179</td>\n",
       "      <td>3.050987</td>\n",
       "      <td>780</td>\n",
       "      <td>2379.77</td>\n",
       "    </tr>\n",
       "  </tbody>\n",
       "</table>\n",
       "</div>"
      ],
      "text/plain": [
       "   Number of Unique Items  Average Price  Number of Purchases  Total Revenue\n",
       "0                     179       3.050987                  780        2379.77"
      ]
     },
     "execution_count": 123,
     "metadata": {},
     "output_type": "execute_result"
    }
   ],
   "source": [
    "df = pd.DataFrame(summary, index = [0])\n",
    "df"
   ]
  },
  {
   "cell_type": "code",
   "execution_count": null,
   "metadata": {},
   "outputs": [],
   "source": []
  },
  {
   "cell_type": "code",
   "execution_count": 124,
   "metadata": {},
   "outputs": [
    {
     "data": {
      "text/html": [
       "<style  type=\"text/css\" >\n",
       "</style><table id=\"T_4a4f95a9_8fc9_11eb_842a_97f8bd0cb744\" ><thead>    <tr>        <th class=\"blank level0\" ></th>        <th class=\"col_heading level0 col0\" >Total Count</th>        <th class=\"col_heading level0 col1\" >Percentage of Players</th>    </tr>    <tr>        <th class=\"index_name level0\" >Gender</th>        <th class=\"blank\" ></th>        <th class=\"blank\" ></th>    </tr></thead><tbody>\n",
       "                <tr>\n",
       "                        <th id=\"T_4a4f95a9_8fc9_11eb_842a_97f8bd0cb744level0_row0\" class=\"row_heading level0 row0\" >Female</th>\n",
       "                        <td id=\"T_4a4f95a9_8fc9_11eb_842a_97f8bd0cb744row0_col0\" class=\"data row0 col0\" >81</td>\n",
       "                        <td id=\"T_4a4f95a9_8fc9_11eb_842a_97f8bd0cb744row0_col1\" class=\"data row0 col1\" >14.06%</td>\n",
       "            </tr>\n",
       "            <tr>\n",
       "                        <th id=\"T_4a4f95a9_8fc9_11eb_842a_97f8bd0cb744level0_row1\" class=\"row_heading level0 row1\" >Male</th>\n",
       "                        <td id=\"T_4a4f95a9_8fc9_11eb_842a_97f8bd0cb744row1_col0\" class=\"data row1 col0\" >484</td>\n",
       "                        <td id=\"T_4a4f95a9_8fc9_11eb_842a_97f8bd0cb744row1_col1\" class=\"data row1 col1\" >84.03%</td>\n",
       "            </tr>\n",
       "            <tr>\n",
       "                        <th id=\"T_4a4f95a9_8fc9_11eb_842a_97f8bd0cb744level0_row2\" class=\"row_heading level0 row2\" >Other / Non-Disclosed</th>\n",
       "                        <td id=\"T_4a4f95a9_8fc9_11eb_842a_97f8bd0cb744row2_col0\" class=\"data row2 col0\" >11</td>\n",
       "                        <td id=\"T_4a4f95a9_8fc9_11eb_842a_97f8bd0cb744row2_col1\" class=\"data row2 col1\" >1.91%</td>\n",
       "            </tr>\n",
       "    </tbody></table>"
      ],
      "text/plain": [
       "<pandas.io.formats.style.Styler at 0x29e776973d0>"
      ]
     },
     "execution_count": 124,
     "metadata": {},
     "output_type": "execute_result"
    }
   ],
   "source": [
    "gendernumber = purchase_data.groupby('Gender')['SN'].nunique()\n",
    "\n",
    "percent = gendernumber / totalplayers \n",
    "\n",
    "genderdic = {'Total Count': gendernumber, 'Percentage of Players': percent }\n",
    "\n",
    "df = pd.DataFrame(genderdic)\n",
    "df.style.format({'Percentage of Players':'{:.2%}'})"
   ]
  },
  {
   "cell_type": "code",
   "execution_count": 125,
   "metadata": {},
   "outputs": [
    {
     "data": {
      "text/html": [
       "<style  type=\"text/css\" >\n",
       "</style><table id=\"T_4a5550cc_8fc9_11eb_9c37_97f8bd0cb744\" ><thead>    <tr>        <th class=\"blank level0\" ></th>        <th class=\"col_heading level0 col0\" >Purchase Count</th>        <th class=\"col_heading level0 col1\" >Average Price</th>        <th class=\"col_heading level0 col2\" >Total Price</th>        <th class=\"col_heading level0 col3\" >Per Player</th>    </tr>    <tr>        <th class=\"index_name level0\" >Gender</th>        <th class=\"blank\" ></th>        <th class=\"blank\" ></th>        <th class=\"blank\" ></th>        <th class=\"blank\" ></th>    </tr></thead><tbody>\n",
       "                <tr>\n",
       "                        <th id=\"T_4a5550cc_8fc9_11eb_9c37_97f8bd0cb744level0_row0\" class=\"row_heading level0 row0\" >Female</th>\n",
       "                        <td id=\"T_4a5550cc_8fc9_11eb_9c37_97f8bd0cb744row0_col0\" class=\"data row0 col0\" >113</td>\n",
       "                        <td id=\"T_4a5550cc_8fc9_11eb_9c37_97f8bd0cb744row0_col1\" class=\"data row0 col1\" >$3.20</td>\n",
       "                        <td id=\"T_4a5550cc_8fc9_11eb_9c37_97f8bd0cb744row0_col2\" class=\"data row0 col2\" >$361.94</td>\n",
       "                        <td id=\"T_4a5550cc_8fc9_11eb_9c37_97f8bd0cb744row0_col3\" class=\"data row0 col3\" >$4.47</td>\n",
       "            </tr>\n",
       "            <tr>\n",
       "                        <th id=\"T_4a5550cc_8fc9_11eb_9c37_97f8bd0cb744level0_row1\" class=\"row_heading level0 row1\" >Male</th>\n",
       "                        <td id=\"T_4a5550cc_8fc9_11eb_9c37_97f8bd0cb744row1_col0\" class=\"data row1 col0\" >652</td>\n",
       "                        <td id=\"T_4a5550cc_8fc9_11eb_9c37_97f8bd0cb744row1_col1\" class=\"data row1 col1\" >$3.02</td>\n",
       "                        <td id=\"T_4a5550cc_8fc9_11eb_9c37_97f8bd0cb744row1_col2\" class=\"data row1 col2\" >$1967.64</td>\n",
       "                        <td id=\"T_4a5550cc_8fc9_11eb_9c37_97f8bd0cb744row1_col3\" class=\"data row1 col3\" >$4.07</td>\n",
       "            </tr>\n",
       "            <tr>\n",
       "                        <th id=\"T_4a5550cc_8fc9_11eb_9c37_97f8bd0cb744level0_row2\" class=\"row_heading level0 row2\" >Other / Non-Disclosed</th>\n",
       "                        <td id=\"T_4a5550cc_8fc9_11eb_9c37_97f8bd0cb744row2_col0\" class=\"data row2 col0\" >15</td>\n",
       "                        <td id=\"T_4a5550cc_8fc9_11eb_9c37_97f8bd0cb744row2_col1\" class=\"data row2 col1\" >$3.35</td>\n",
       "                        <td id=\"T_4a5550cc_8fc9_11eb_9c37_97f8bd0cb744row2_col2\" class=\"data row2 col2\" >$50.19</td>\n",
       "                        <td id=\"T_4a5550cc_8fc9_11eb_9c37_97f8bd0cb744row2_col3\" class=\"data row2 col3\" >$4.56</td>\n",
       "            </tr>\n",
       "    </tbody></table>"
      ],
      "text/plain": [
       "<pandas.io.formats.style.Styler at 0x29e77644580>"
      ]
     },
     "execution_count": 125,
     "metadata": {},
     "output_type": "execute_result"
    }
   ],
   "source": [
    "purchasecount = purchase_data.groupby('Gender')['Purchase ID'].count()\n",
    "purchaseave = purchase_data.groupby('Gender')['Price'].mean()\n",
    "purchasetotal = purchase_data.groupby('Gender')['Price'].sum()\n",
    "perplayer = purchasetotal/gendernumber\n",
    "purchasedic = {'Purchase Count': purchasecount, 'Average Price': purchaseave, 'Total Price': purchasetotal, 'Per Player': perplayer}\n",
    "pdf = pd.DataFrame(purchasedic)\n",
    "pdf.style.format({'Average Price': '${:.2f}', 'Total Price': '${:.2f}','Per Player': '${:.2f}'})"
   ]
  },
  {
   "cell_type": "code",
   "execution_count": 126,
   "metadata": {},
   "outputs": [
    {
     "data": {
      "text/html": [
       "<style  type=\"text/css\" >\n",
       "</style><table id=\"T_4a593906_8fc9_11eb_b869_97f8bd0cb744\" ><thead>    <tr>        <th class=\"blank level0\" ></th>        <th class=\"col_heading level0 col0\" >Total Count</th>        <th class=\"col_heading level0 col1\" >Percentage of Players</th>    </tr>    <tr>        <th class=\"index_name level0\" >bin</th>        <th class=\"blank\" ></th>        <th class=\"blank\" ></th>    </tr></thead><tbody>\n",
       "                <tr>\n",
       "                        <th id=\"T_4a593906_8fc9_11eb_b869_97f8bd0cb744level0_row0\" class=\"row_heading level0 row0\" ><10</th>\n",
       "                        <td id=\"T_4a593906_8fc9_11eb_b869_97f8bd0cb744row0_col0\" class=\"data row0 col0\" >17</td>\n",
       "                        <td id=\"T_4a593906_8fc9_11eb_b869_97f8bd0cb744row0_col1\" class=\"data row0 col1\" >2.95%</td>\n",
       "            </tr>\n",
       "            <tr>\n",
       "                        <th id=\"T_4a593906_8fc9_11eb_b869_97f8bd0cb744level0_row1\" class=\"row_heading level0 row1\" >10-14</th>\n",
       "                        <td id=\"T_4a593906_8fc9_11eb_b869_97f8bd0cb744row1_col0\" class=\"data row1 col0\" >22</td>\n",
       "                        <td id=\"T_4a593906_8fc9_11eb_b869_97f8bd0cb744row1_col1\" class=\"data row1 col1\" >3.82%</td>\n",
       "            </tr>\n",
       "            <tr>\n",
       "                        <th id=\"T_4a593906_8fc9_11eb_b869_97f8bd0cb744level0_row2\" class=\"row_heading level0 row2\" >15-19</th>\n",
       "                        <td id=\"T_4a593906_8fc9_11eb_b869_97f8bd0cb744row2_col0\" class=\"data row2 col0\" >107</td>\n",
       "                        <td id=\"T_4a593906_8fc9_11eb_b869_97f8bd0cb744row2_col1\" class=\"data row2 col1\" >18.58%</td>\n",
       "            </tr>\n",
       "            <tr>\n",
       "                        <th id=\"T_4a593906_8fc9_11eb_b869_97f8bd0cb744level0_row3\" class=\"row_heading level0 row3\" >20-24</th>\n",
       "                        <td id=\"T_4a593906_8fc9_11eb_b869_97f8bd0cb744row3_col0\" class=\"data row3 col0\" >258</td>\n",
       "                        <td id=\"T_4a593906_8fc9_11eb_b869_97f8bd0cb744row3_col1\" class=\"data row3 col1\" >44.79%</td>\n",
       "            </tr>\n",
       "            <tr>\n",
       "                        <th id=\"T_4a593906_8fc9_11eb_b869_97f8bd0cb744level0_row4\" class=\"row_heading level0 row4\" >25-29</th>\n",
       "                        <td id=\"T_4a593906_8fc9_11eb_b869_97f8bd0cb744row4_col0\" class=\"data row4 col0\" >77</td>\n",
       "                        <td id=\"T_4a593906_8fc9_11eb_b869_97f8bd0cb744row4_col1\" class=\"data row4 col1\" >13.37%</td>\n",
       "            </tr>\n",
       "            <tr>\n",
       "                        <th id=\"T_4a593906_8fc9_11eb_b869_97f8bd0cb744level0_row5\" class=\"row_heading level0 row5\" >30-34</th>\n",
       "                        <td id=\"T_4a593906_8fc9_11eb_b869_97f8bd0cb744row5_col0\" class=\"data row5 col0\" >52</td>\n",
       "                        <td id=\"T_4a593906_8fc9_11eb_b869_97f8bd0cb744row5_col1\" class=\"data row5 col1\" >9.03%</td>\n",
       "            </tr>\n",
       "            <tr>\n",
       "                        <th id=\"T_4a593906_8fc9_11eb_b869_97f8bd0cb744level0_row6\" class=\"row_heading level0 row6\" >35-39</th>\n",
       "                        <td id=\"T_4a593906_8fc9_11eb_b869_97f8bd0cb744row6_col0\" class=\"data row6 col0\" >31</td>\n",
       "                        <td id=\"T_4a593906_8fc9_11eb_b869_97f8bd0cb744row6_col1\" class=\"data row6 col1\" >5.38%</td>\n",
       "            </tr>\n",
       "            <tr>\n",
       "                        <th id=\"T_4a593906_8fc9_11eb_b869_97f8bd0cb744level0_row7\" class=\"row_heading level0 row7\" >40+</th>\n",
       "                        <td id=\"T_4a593906_8fc9_11eb_b869_97f8bd0cb744row7_col0\" class=\"data row7 col0\" >12</td>\n",
       "                        <td id=\"T_4a593906_8fc9_11eb_b869_97f8bd0cb744row7_col1\" class=\"data row7 col1\" >2.08%</td>\n",
       "            </tr>\n",
       "    </tbody></table>"
      ],
      "text/plain": [
       "<pandas.io.formats.style.Styler at 0x29e7732edf0>"
      ]
     },
     "execution_count": 126,
     "metadata": {},
     "output_type": "execute_result"
    }
   ],
   "source": [
    "bins = [0, 9, 14, 19, 24, 29, 34, 39, 100]\n",
    "range_names = [\"<10\", \"10-14\", \"15-19\", \"20-24\", \"25-29\",\"30-34\",\"35-39\",\"40+\" ]\n",
    "\n",
    "purchase_data[\"bin\"] = pd.cut(purchase_data[\"Age\"], bins, labels = range_names, include_lowest = True)\n",
    "\n",
    "purchase_databin = purchase_data.groupby(\"bin\")\n",
    "age = purchase_databin['SN'].nunique()\n",
    "percentage_age = age/totalplayers\n",
    "agedic = {'Total Count': age, 'Percentage of Players': percentage_age}\n",
    "age_summary = pd.DataFrame(agedic)\n",
    "age_summary.style.format({'Percentage of Players':'{:.2%}'})"
   ]
  },
  {
   "cell_type": "code",
   "execution_count": null,
   "metadata": {},
   "outputs": [],
   "source": []
  },
  {
   "cell_type": "code",
   "execution_count": 127,
   "metadata": {},
   "outputs": [
    {
     "data": {
      "text/html": [
       "<style  type=\"text/css\" >\n",
       "</style><table id=\"T_4a5d88c4_8fc9_11eb_b8e8_97f8bd0cb744\" ><thead>    <tr>        <th class=\"blank level0\" ></th>        <th class=\"col_heading level0 col0\" >Purchase Count</th>        <th class=\"col_heading level0 col1\" >Average Price</th>        <th class=\"col_heading level0 col2\" >Total Price</th>        <th class=\"col_heading level0 col3\" >Per Player</th>    </tr>    <tr>        <th class=\"index_name level0\" >bin</th>        <th class=\"blank\" ></th>        <th class=\"blank\" ></th>        <th class=\"blank\" ></th>        <th class=\"blank\" ></th>    </tr></thead><tbody>\n",
       "                <tr>\n",
       "                        <th id=\"T_4a5d88c4_8fc9_11eb_b8e8_97f8bd0cb744level0_row0\" class=\"row_heading level0 row0\" ><10</th>\n",
       "                        <td id=\"T_4a5d88c4_8fc9_11eb_b8e8_97f8bd0cb744row0_col0\" class=\"data row0 col0\" >23</td>\n",
       "                        <td id=\"T_4a5d88c4_8fc9_11eb_b8e8_97f8bd0cb744row0_col1\" class=\"data row0 col1\" >$3.35</td>\n",
       "                        <td id=\"T_4a5d88c4_8fc9_11eb_b8e8_97f8bd0cb744row0_col2\" class=\"data row0 col2\" >$77.13</td>\n",
       "                        <td id=\"T_4a5d88c4_8fc9_11eb_b8e8_97f8bd0cb744row0_col3\" class=\"data row0 col3\" >$4.54</td>\n",
       "            </tr>\n",
       "            <tr>\n",
       "                        <th id=\"T_4a5d88c4_8fc9_11eb_b8e8_97f8bd0cb744level0_row1\" class=\"row_heading level0 row1\" >10-14</th>\n",
       "                        <td id=\"T_4a5d88c4_8fc9_11eb_b8e8_97f8bd0cb744row1_col0\" class=\"data row1 col0\" >28</td>\n",
       "                        <td id=\"T_4a5d88c4_8fc9_11eb_b8e8_97f8bd0cb744row1_col1\" class=\"data row1 col1\" >$2.96</td>\n",
       "                        <td id=\"T_4a5d88c4_8fc9_11eb_b8e8_97f8bd0cb744row1_col2\" class=\"data row1 col2\" >$82.78</td>\n",
       "                        <td id=\"T_4a5d88c4_8fc9_11eb_b8e8_97f8bd0cb744row1_col3\" class=\"data row1 col3\" >$3.76</td>\n",
       "            </tr>\n",
       "            <tr>\n",
       "                        <th id=\"T_4a5d88c4_8fc9_11eb_b8e8_97f8bd0cb744level0_row2\" class=\"row_heading level0 row2\" >15-19</th>\n",
       "                        <td id=\"T_4a5d88c4_8fc9_11eb_b8e8_97f8bd0cb744row2_col0\" class=\"data row2 col0\" >136</td>\n",
       "                        <td id=\"T_4a5d88c4_8fc9_11eb_b8e8_97f8bd0cb744row2_col1\" class=\"data row2 col1\" >$3.04</td>\n",
       "                        <td id=\"T_4a5d88c4_8fc9_11eb_b8e8_97f8bd0cb744row2_col2\" class=\"data row2 col2\" >$412.89</td>\n",
       "                        <td id=\"T_4a5d88c4_8fc9_11eb_b8e8_97f8bd0cb744row2_col3\" class=\"data row2 col3\" >$3.86</td>\n",
       "            </tr>\n",
       "            <tr>\n",
       "                        <th id=\"T_4a5d88c4_8fc9_11eb_b8e8_97f8bd0cb744level0_row3\" class=\"row_heading level0 row3\" >20-24</th>\n",
       "                        <td id=\"T_4a5d88c4_8fc9_11eb_b8e8_97f8bd0cb744row3_col0\" class=\"data row3 col0\" >365</td>\n",
       "                        <td id=\"T_4a5d88c4_8fc9_11eb_b8e8_97f8bd0cb744row3_col1\" class=\"data row3 col1\" >$3.05</td>\n",
       "                        <td id=\"T_4a5d88c4_8fc9_11eb_b8e8_97f8bd0cb744row3_col2\" class=\"data row3 col2\" >$1114.06</td>\n",
       "                        <td id=\"T_4a5d88c4_8fc9_11eb_b8e8_97f8bd0cb744row3_col3\" class=\"data row3 col3\" >$4.32</td>\n",
       "            </tr>\n",
       "            <tr>\n",
       "                        <th id=\"T_4a5d88c4_8fc9_11eb_b8e8_97f8bd0cb744level0_row4\" class=\"row_heading level0 row4\" >25-29</th>\n",
       "                        <td id=\"T_4a5d88c4_8fc9_11eb_b8e8_97f8bd0cb744row4_col0\" class=\"data row4 col0\" >101</td>\n",
       "                        <td id=\"T_4a5d88c4_8fc9_11eb_b8e8_97f8bd0cb744row4_col1\" class=\"data row4 col1\" >$2.90</td>\n",
       "                        <td id=\"T_4a5d88c4_8fc9_11eb_b8e8_97f8bd0cb744row4_col2\" class=\"data row4 col2\" >$293.00</td>\n",
       "                        <td id=\"T_4a5d88c4_8fc9_11eb_b8e8_97f8bd0cb744row4_col3\" class=\"data row4 col3\" >$3.81</td>\n",
       "            </tr>\n",
       "            <tr>\n",
       "                        <th id=\"T_4a5d88c4_8fc9_11eb_b8e8_97f8bd0cb744level0_row5\" class=\"row_heading level0 row5\" >30-34</th>\n",
       "                        <td id=\"T_4a5d88c4_8fc9_11eb_b8e8_97f8bd0cb744row5_col0\" class=\"data row5 col0\" >73</td>\n",
       "                        <td id=\"T_4a5d88c4_8fc9_11eb_b8e8_97f8bd0cb744row5_col1\" class=\"data row5 col1\" >$2.93</td>\n",
       "                        <td id=\"T_4a5d88c4_8fc9_11eb_b8e8_97f8bd0cb744row5_col2\" class=\"data row5 col2\" >$214.00</td>\n",
       "                        <td id=\"T_4a5d88c4_8fc9_11eb_b8e8_97f8bd0cb744row5_col3\" class=\"data row5 col3\" >$4.12</td>\n",
       "            </tr>\n",
       "            <tr>\n",
       "                        <th id=\"T_4a5d88c4_8fc9_11eb_b8e8_97f8bd0cb744level0_row6\" class=\"row_heading level0 row6\" >35-39</th>\n",
       "                        <td id=\"T_4a5d88c4_8fc9_11eb_b8e8_97f8bd0cb744row6_col0\" class=\"data row6 col0\" >41</td>\n",
       "                        <td id=\"T_4a5d88c4_8fc9_11eb_b8e8_97f8bd0cb744row6_col1\" class=\"data row6 col1\" >$3.60</td>\n",
       "                        <td id=\"T_4a5d88c4_8fc9_11eb_b8e8_97f8bd0cb744row6_col2\" class=\"data row6 col2\" >$147.67</td>\n",
       "                        <td id=\"T_4a5d88c4_8fc9_11eb_b8e8_97f8bd0cb744row6_col3\" class=\"data row6 col3\" >$4.76</td>\n",
       "            </tr>\n",
       "            <tr>\n",
       "                        <th id=\"T_4a5d88c4_8fc9_11eb_b8e8_97f8bd0cb744level0_row7\" class=\"row_heading level0 row7\" >40+</th>\n",
       "                        <td id=\"T_4a5d88c4_8fc9_11eb_b8e8_97f8bd0cb744row7_col0\" class=\"data row7 col0\" >13</td>\n",
       "                        <td id=\"T_4a5d88c4_8fc9_11eb_b8e8_97f8bd0cb744row7_col1\" class=\"data row7 col1\" >$2.94</td>\n",
       "                        <td id=\"T_4a5d88c4_8fc9_11eb_b8e8_97f8bd0cb744row7_col2\" class=\"data row7 col2\" >$38.24</td>\n",
       "                        <td id=\"T_4a5d88c4_8fc9_11eb_b8e8_97f8bd0cb744row7_col3\" class=\"data row7 col3\" >$3.19</td>\n",
       "            </tr>\n",
       "    </tbody></table>"
      ],
      "text/plain": [
       "<pandas.io.formats.style.Styler at 0x29e7766c190>"
      ]
     },
     "execution_count": 127,
     "metadata": {},
     "output_type": "execute_result"
    }
   ],
   "source": [
    "purchaseagecount = purchase_databin['Purchase ID'].count()\n",
    "purchaseageave = purchase_databin['Price'].mean()\n",
    "purchaseagetotal = purchase_databin['Price'].sum()\n",
    "perageplayer = purchaseagetotal/age\n",
    "purchaseagedic = {'Purchase Count': purchaseagecount, 'Average Price': purchaseageave, 'Total Price': purchaseagetotal, 'Per Player': perageplayer}\n",
    "adf = pd.DataFrame(purchaseagedic)\n",
    "adf.style.format({'Average Price': '${:.2f}', 'Total Price': '${:.2f}','Per Player': '${:.2f}'})"
   ]
  },
  {
   "cell_type": "code",
   "execution_count": null,
   "metadata": {},
   "outputs": [],
   "source": []
  },
  {
   "cell_type": "code",
   "execution_count": null,
   "metadata": {},
   "outputs": [],
   "source": []
  },
  {
   "cell_type": "code",
   "execution_count": null,
   "metadata": {},
   "outputs": [],
   "source": []
  },
  {
   "cell_type": "code",
   "execution_count": 128,
   "metadata": {},
   "outputs": [
    {
     "data": {
      "text/html": [
       "<style  type=\"text/css\" >\n",
       "</style><table id=\"T_4a62807a_8fc9_11eb_b39d_97f8bd0cb744\" ><thead>    <tr>        <th class=\"blank level0\" ></th>        <th class=\"col_heading level0 col0\" >Purchase Count</th>        <th class=\"col_heading level0 col1\" >Average Price</th>        <th class=\"col_heading level0 col2\" >Total Price</th>    </tr>    <tr>        <th class=\"index_name level0\" >SN</th>        <th class=\"blank\" ></th>        <th class=\"blank\" ></th>        <th class=\"blank\" ></th>    </tr></thead><tbody>\n",
       "                <tr>\n",
       "                        <th id=\"T_4a62807a_8fc9_11eb_b39d_97f8bd0cb744level0_row0\" class=\"row_heading level0 row0\" >Lisosia93</th>\n",
       "                        <td id=\"T_4a62807a_8fc9_11eb_b39d_97f8bd0cb744row0_col0\" class=\"data row0 col0\" >5</td>\n",
       "                        <td id=\"T_4a62807a_8fc9_11eb_b39d_97f8bd0cb744row0_col1\" class=\"data row0 col1\" >$3.79</td>\n",
       "                        <td id=\"T_4a62807a_8fc9_11eb_b39d_97f8bd0cb744row0_col2\" class=\"data row0 col2\" >$18.96</td>\n",
       "            </tr>\n",
       "            <tr>\n",
       "                        <th id=\"T_4a62807a_8fc9_11eb_b39d_97f8bd0cb744level0_row1\" class=\"row_heading level0 row1\" >Idastidru52</th>\n",
       "                        <td id=\"T_4a62807a_8fc9_11eb_b39d_97f8bd0cb744row1_col0\" class=\"data row1 col0\" >4</td>\n",
       "                        <td id=\"T_4a62807a_8fc9_11eb_b39d_97f8bd0cb744row1_col1\" class=\"data row1 col1\" >$3.86</td>\n",
       "                        <td id=\"T_4a62807a_8fc9_11eb_b39d_97f8bd0cb744row1_col2\" class=\"data row1 col2\" >$15.45</td>\n",
       "            </tr>\n",
       "            <tr>\n",
       "                        <th id=\"T_4a62807a_8fc9_11eb_b39d_97f8bd0cb744level0_row2\" class=\"row_heading level0 row2\" >Chamjask73</th>\n",
       "                        <td id=\"T_4a62807a_8fc9_11eb_b39d_97f8bd0cb744row2_col0\" class=\"data row2 col0\" >3</td>\n",
       "                        <td id=\"T_4a62807a_8fc9_11eb_b39d_97f8bd0cb744row2_col1\" class=\"data row2 col1\" >$4.61</td>\n",
       "                        <td id=\"T_4a62807a_8fc9_11eb_b39d_97f8bd0cb744row2_col2\" class=\"data row2 col2\" >$13.83</td>\n",
       "            </tr>\n",
       "            <tr>\n",
       "                        <th id=\"T_4a62807a_8fc9_11eb_b39d_97f8bd0cb744level0_row3\" class=\"row_heading level0 row3\" >Iral74</th>\n",
       "                        <td id=\"T_4a62807a_8fc9_11eb_b39d_97f8bd0cb744row3_col0\" class=\"data row3 col0\" >4</td>\n",
       "                        <td id=\"T_4a62807a_8fc9_11eb_b39d_97f8bd0cb744row3_col1\" class=\"data row3 col1\" >$3.40</td>\n",
       "                        <td id=\"T_4a62807a_8fc9_11eb_b39d_97f8bd0cb744row3_col2\" class=\"data row3 col2\" >$13.62</td>\n",
       "            </tr>\n",
       "            <tr>\n",
       "                        <th id=\"T_4a62807a_8fc9_11eb_b39d_97f8bd0cb744level0_row4\" class=\"row_heading level0 row4\" >Iskadarya95</th>\n",
       "                        <td id=\"T_4a62807a_8fc9_11eb_b39d_97f8bd0cb744row4_col0\" class=\"data row4 col0\" >3</td>\n",
       "                        <td id=\"T_4a62807a_8fc9_11eb_b39d_97f8bd0cb744row4_col1\" class=\"data row4 col1\" >$4.37</td>\n",
       "                        <td id=\"T_4a62807a_8fc9_11eb_b39d_97f8bd0cb744row4_col2\" class=\"data row4 col2\" >$13.10</td>\n",
       "            </tr>\n",
       "    </tbody></table>"
      ],
      "text/plain": [
       "<pandas.io.formats.style.Styler at 0x29e77697730>"
      ]
     },
     "execution_count": 128,
     "metadata": {},
     "output_type": "execute_result"
    }
   ],
   "source": [
    "tsmean = purchase_data.groupby('SN')['Price'].mean()\n",
    "tstotal = purchase_data.groupby('SN')['Purchase ID'].count()\n",
    "tssum = purchase_data.groupby('SN')['Price'].sum()\n",
    "tsdic = {'Purchase Count': tstotal, 'Average Price': tsmean, 'Total Price': tssum}\n",
    "topdf = pd.DataFrame(tsdic).sort_values(\"Total Price\", ascending = False).head()\n",
    "topdf.style.format({'Average Price': '${:.2f}', 'Total Price': '${:.2f}'})\n"
   ]
  },
  {
   "cell_type": "code",
   "execution_count": null,
   "metadata": {},
   "outputs": [],
   "source": []
  },
  {
   "cell_type": "code",
   "execution_count": null,
   "metadata": {},
   "outputs": [],
   "source": []
  },
  {
   "cell_type": "code",
   "execution_count": null,
   "metadata": {},
   "outputs": [],
   "source": []
  },
  {
   "cell_type": "code",
   "execution_count": 129,
   "metadata": {},
   "outputs": [
    {
     "data": {
      "text/html": [
       "<style  type=\"text/css\" >\n",
       "</style><table id=\"T_4a693435_8fc9_11eb_a264_97f8bd0cb744\" ><thead>    <tr>        <th class=\"blank\" ></th>        <th class=\"blank level0\" ></th>        <th class=\"col_heading level0 col0\" >Purchase Count</th>        <th class=\"col_heading level0 col1\" >Average Price</th>        <th class=\"col_heading level0 col2\" >Total Price</th>    </tr>    <tr>        <th class=\"index_name level0\" >Item ID</th>        <th class=\"index_name level1\" >Item Name</th>        <th class=\"blank\" ></th>        <th class=\"blank\" ></th>        <th class=\"blank\" ></th>    </tr></thead><tbody>\n",
       "                <tr>\n",
       "                        <th id=\"T_4a693435_8fc9_11eb_a264_97f8bd0cb744level0_row0\" class=\"row_heading level0 row0\" >92</th>\n",
       "                        <th id=\"T_4a693435_8fc9_11eb_a264_97f8bd0cb744level1_row0\" class=\"row_heading level1 row0\" >Final Critic</th>\n",
       "                        <td id=\"T_4a693435_8fc9_11eb_a264_97f8bd0cb744row0_col0\" class=\"data row0 col0\" >13</td>\n",
       "                        <td id=\"T_4a693435_8fc9_11eb_a264_97f8bd0cb744row0_col1\" class=\"data row0 col1\" >$4.61</td>\n",
       "                        <td id=\"T_4a693435_8fc9_11eb_a264_97f8bd0cb744row0_col2\" class=\"data row0 col2\" >$59.99</td>\n",
       "            </tr>\n",
       "            <tr>\n",
       "                        <th id=\"T_4a693435_8fc9_11eb_a264_97f8bd0cb744level0_row1\" class=\"row_heading level0 row1\" >178</th>\n",
       "                        <th id=\"T_4a693435_8fc9_11eb_a264_97f8bd0cb744level1_row1\" class=\"row_heading level1 row1\" >Oathbreaker, Last Hope of the Breaking Storm</th>\n",
       "                        <td id=\"T_4a693435_8fc9_11eb_a264_97f8bd0cb744row1_col0\" class=\"data row1 col0\" >12</td>\n",
       "                        <td id=\"T_4a693435_8fc9_11eb_a264_97f8bd0cb744row1_col1\" class=\"data row1 col1\" >$4.23</td>\n",
       "                        <td id=\"T_4a693435_8fc9_11eb_a264_97f8bd0cb744row1_col2\" class=\"data row1 col2\" >$50.76</td>\n",
       "            </tr>\n",
       "            <tr>\n",
       "                        <th id=\"T_4a693435_8fc9_11eb_a264_97f8bd0cb744level0_row2\" class=\"row_heading level0 row2\" >145</th>\n",
       "                        <th id=\"T_4a693435_8fc9_11eb_a264_97f8bd0cb744level1_row2\" class=\"row_heading level1 row2\" >Fiery Glass Crusader</th>\n",
       "                        <td id=\"T_4a693435_8fc9_11eb_a264_97f8bd0cb744row2_col0\" class=\"data row2 col0\" >9</td>\n",
       "                        <td id=\"T_4a693435_8fc9_11eb_a264_97f8bd0cb744row2_col1\" class=\"data row2 col1\" >$4.58</td>\n",
       "                        <td id=\"T_4a693435_8fc9_11eb_a264_97f8bd0cb744row2_col2\" class=\"data row2 col2\" >$41.22</td>\n",
       "            </tr>\n",
       "            <tr>\n",
       "                        <th id=\"T_4a693435_8fc9_11eb_a264_97f8bd0cb744level0_row3\" class=\"row_heading level0 row3\" >132</th>\n",
       "                        <th id=\"T_4a693435_8fc9_11eb_a264_97f8bd0cb744level1_row3\" class=\"row_heading level1 row3\" >Persuasion</th>\n",
       "                        <td id=\"T_4a693435_8fc9_11eb_a264_97f8bd0cb744row3_col0\" class=\"data row3 col0\" >9</td>\n",
       "                        <td id=\"T_4a693435_8fc9_11eb_a264_97f8bd0cb744row3_col1\" class=\"data row3 col1\" >$3.22</td>\n",
       "                        <td id=\"T_4a693435_8fc9_11eb_a264_97f8bd0cb744row3_col2\" class=\"data row3 col2\" >$28.99</td>\n",
       "            </tr>\n",
       "            <tr>\n",
       "                        <th id=\"T_4a693435_8fc9_11eb_a264_97f8bd0cb744level0_row4\" class=\"row_heading level0 row4\" >108</th>\n",
       "                        <th id=\"T_4a693435_8fc9_11eb_a264_97f8bd0cb744level1_row4\" class=\"row_heading level1 row4\" >Extraction, Quickblade Of Trembling Hands</th>\n",
       "                        <td id=\"T_4a693435_8fc9_11eb_a264_97f8bd0cb744row4_col0\" class=\"data row4 col0\" >9</td>\n",
       "                        <td id=\"T_4a693435_8fc9_11eb_a264_97f8bd0cb744row4_col1\" class=\"data row4 col1\" >$3.53</td>\n",
       "                        <td id=\"T_4a693435_8fc9_11eb_a264_97f8bd0cb744row4_col2\" class=\"data row4 col2\" >$31.77</td>\n",
       "            </tr>\n",
       "    </tbody></table>"
      ],
      "text/plain": [
       "<pandas.io.formats.style.Styler at 0x29e774c2970>"
      ]
     },
     "execution_count": 129,
     "metadata": {},
     "output_type": "execute_result"
    }
   ],
   "source": [
    "topitemsmean = purchase_data.groupby(['Item ID','Item Name'])['Price'].mean()\n",
    "topitemscount = purchase_data.groupby(['Item ID','Item Name'])['Price'].count()\n",
    "topitemstotal = purchase_data.groupby(['Item ID','Item Name'])['Price'].sum()\n",
    "\n",
    "topitemsdic = {'Purchase Count': topitemscount, 'Average Price': topitemsmean, 'Total Price': topitemstotal}\n",
    "topidf = pd.DataFrame(topitemsdic).sort_values(\"Purchase Count\", ascending = False).head()\n",
    "\n",
    "topidf.style.format({'Average Price': '${:.2f}', 'Total Price': '${:.2f}'})"
   ]
  },
  {
   "cell_type": "code",
   "execution_count": 130,
   "metadata": {},
   "outputs": [
    {
     "data": {
      "text/html": [
       "<style  type=\"text/css\" >\n",
       "</style><table id=\"T_4a6f468e_8fc9_11eb_af4a_97f8bd0cb744\" ><thead>    <tr>        <th class=\"blank\" ></th>        <th class=\"blank level0\" ></th>        <th class=\"col_heading level0 col0\" >Purchase Count</th>        <th class=\"col_heading level0 col1\" >Average Price</th>        <th class=\"col_heading level0 col2\" >Total Price</th>    </tr>    <tr>        <th class=\"index_name level0\" >Item ID</th>        <th class=\"index_name level1\" >Item Name</th>        <th class=\"blank\" ></th>        <th class=\"blank\" ></th>        <th class=\"blank\" ></th>    </tr></thead><tbody>\n",
       "                <tr>\n",
       "                        <th id=\"T_4a6f468e_8fc9_11eb_af4a_97f8bd0cb744level0_row0\" class=\"row_heading level0 row0\" >92</th>\n",
       "                        <th id=\"T_4a6f468e_8fc9_11eb_af4a_97f8bd0cb744level1_row0\" class=\"row_heading level1 row0\" >Final Critic</th>\n",
       "                        <td id=\"T_4a6f468e_8fc9_11eb_af4a_97f8bd0cb744row0_col0\" class=\"data row0 col0\" >13</td>\n",
       "                        <td id=\"T_4a6f468e_8fc9_11eb_af4a_97f8bd0cb744row0_col1\" class=\"data row0 col1\" >$4.61</td>\n",
       "                        <td id=\"T_4a6f468e_8fc9_11eb_af4a_97f8bd0cb744row0_col2\" class=\"data row0 col2\" >$59.99</td>\n",
       "            </tr>\n",
       "            <tr>\n",
       "                        <th id=\"T_4a6f468e_8fc9_11eb_af4a_97f8bd0cb744level0_row1\" class=\"row_heading level0 row1\" >178</th>\n",
       "                        <th id=\"T_4a6f468e_8fc9_11eb_af4a_97f8bd0cb744level1_row1\" class=\"row_heading level1 row1\" >Oathbreaker, Last Hope of the Breaking Storm</th>\n",
       "                        <td id=\"T_4a6f468e_8fc9_11eb_af4a_97f8bd0cb744row1_col0\" class=\"data row1 col0\" >12</td>\n",
       "                        <td id=\"T_4a6f468e_8fc9_11eb_af4a_97f8bd0cb744row1_col1\" class=\"data row1 col1\" >$4.23</td>\n",
       "                        <td id=\"T_4a6f468e_8fc9_11eb_af4a_97f8bd0cb744row1_col2\" class=\"data row1 col2\" >$50.76</td>\n",
       "            </tr>\n",
       "            <tr>\n",
       "                        <th id=\"T_4a6f468e_8fc9_11eb_af4a_97f8bd0cb744level0_row2\" class=\"row_heading level0 row2\" >82</th>\n",
       "                        <th id=\"T_4a6f468e_8fc9_11eb_af4a_97f8bd0cb744level1_row2\" class=\"row_heading level1 row2\" >Nirvana</th>\n",
       "                        <td id=\"T_4a6f468e_8fc9_11eb_af4a_97f8bd0cb744row2_col0\" class=\"data row2 col0\" >9</td>\n",
       "                        <td id=\"T_4a6f468e_8fc9_11eb_af4a_97f8bd0cb744row2_col1\" class=\"data row2 col1\" >$4.90</td>\n",
       "                        <td id=\"T_4a6f468e_8fc9_11eb_af4a_97f8bd0cb744row2_col2\" class=\"data row2 col2\" >$44.10</td>\n",
       "            </tr>\n",
       "            <tr>\n",
       "                        <th id=\"T_4a6f468e_8fc9_11eb_af4a_97f8bd0cb744level0_row3\" class=\"row_heading level0 row3\" >145</th>\n",
       "                        <th id=\"T_4a6f468e_8fc9_11eb_af4a_97f8bd0cb744level1_row3\" class=\"row_heading level1 row3\" >Fiery Glass Crusader</th>\n",
       "                        <td id=\"T_4a6f468e_8fc9_11eb_af4a_97f8bd0cb744row3_col0\" class=\"data row3 col0\" >9</td>\n",
       "                        <td id=\"T_4a6f468e_8fc9_11eb_af4a_97f8bd0cb744row3_col1\" class=\"data row3 col1\" >$4.58</td>\n",
       "                        <td id=\"T_4a6f468e_8fc9_11eb_af4a_97f8bd0cb744row3_col2\" class=\"data row3 col2\" >$41.22</td>\n",
       "            </tr>\n",
       "            <tr>\n",
       "                        <th id=\"T_4a6f468e_8fc9_11eb_af4a_97f8bd0cb744level0_row4\" class=\"row_heading level0 row4\" >103</th>\n",
       "                        <th id=\"T_4a6f468e_8fc9_11eb_af4a_97f8bd0cb744level1_row4\" class=\"row_heading level1 row4\" >Singed Scalpel</th>\n",
       "                        <td id=\"T_4a6f468e_8fc9_11eb_af4a_97f8bd0cb744row4_col0\" class=\"data row4 col0\" >8</td>\n",
       "                        <td id=\"T_4a6f468e_8fc9_11eb_af4a_97f8bd0cb744row4_col1\" class=\"data row4 col1\" >$4.35</td>\n",
       "                        <td id=\"T_4a6f468e_8fc9_11eb_af4a_97f8bd0cb744row4_col2\" class=\"data row4 col2\" >$34.80</td>\n",
       "            </tr>\n",
       "    </tbody></table>"
      ],
      "text/plain": [
       "<pandas.io.formats.style.Styler at 0x29e77644160>"
      ]
     },
     "execution_count": 130,
     "metadata": {},
     "output_type": "execute_result"
    }
   ],
   "source": [
    "topprofitmean = purchase_data.groupby(['Item ID','Item Name'])['Price'].mean()\n",
    "topprofitcount = purchase_data.groupby(['Item ID','Item Name'])['Price'].count()\n",
    "topprofittotal = purchase_data.groupby(['Item ID','Item Name'])['Price'].sum()\n",
    "\n",
    "topprofitdic = {'Purchase Count': topprofitcount, 'Average Price': topprofitmean, 'Total Price': topprofittotal}\n",
    "topprofdf = pd.DataFrame(topprofitdic).sort_values(\"Total Price\", ascending = False).head()\n",
    "\n",
    "topprofdf.style.format({'Average Price': '${:.2f}', 'Total Price': '${:.2f}'})"
   ]
  },
  {
   "cell_type": "code",
   "execution_count": null,
   "metadata": {},
   "outputs": [],
   "source": []
  },
  {
   "cell_type": "code",
   "execution_count": null,
   "metadata": {},
   "outputs": [],
   "source": []
  }
 ],
 "metadata": {
  "kernelspec": {
   "display_name": "Python 3",
   "language": "python",
   "name": "python3"
  },
  "language_info": {
   "codemirror_mode": {
    "name": "ipython",
    "version": 3
   },
   "file_extension": ".py",
   "mimetype": "text/x-python",
   "name": "python",
   "nbconvert_exporter": "python",
   "pygments_lexer": "ipython3",
   "version": "3.8.5"
  }
 },
 "nbformat": 4,
 "nbformat_minor": 4
}
