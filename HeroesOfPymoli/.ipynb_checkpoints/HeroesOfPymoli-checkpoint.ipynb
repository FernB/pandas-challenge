{
 "cells": [
  {
   "cell_type": "markdown",
   "metadata": {},
   "source": [
    "<h1>Heroes of Pymoli Data Analysis</h1>"
   ]
  },
  {
   "cell_type": "code",
   "execution_count": 4,
   "metadata": {},
   "outputs": [],
   "source": [
    "#dependancies\n",
    "import pandas as pd\n",
    "\n",
    "#load csv file\n",
    "file_to_load = \"Resources\\purchase_data.csv\"\n",
    "\n",
    "#csv data to dataframe\n",
    "purchase_data = pd.read_csv(file_to_load)"
   ]
  },
  {
   "cell_type": "markdown",
   "metadata": {},
   "source": [
    "<h3>Player Count</h3>"
   ]
  },
  {
   "cell_type": "code",
   "execution_count": 5,
   "metadata": {},
   "outputs": [
    {
     "data": {
      "text/html": [
       "<div>\n",
       "<style scoped>\n",
       "    .dataframe tbody tr th:only-of-type {\n",
       "        vertical-align: middle;\n",
       "    }\n",
       "\n",
       "    .dataframe tbody tr th {\n",
       "        vertical-align: top;\n",
       "    }\n",
       "\n",
       "    .dataframe thead th {\n",
       "        text-align: right;\n",
       "    }\n",
       "</style>\n",
       "<table border=\"1\" class=\"dataframe\">\n",
       "  <thead>\n",
       "    <tr style=\"text-align: right;\">\n",
       "      <th></th>\n",
       "      <th>Total Players</th>\n",
       "    </tr>\n",
       "  </thead>\n",
       "  <tbody>\n",
       "    <tr>\n",
       "      <th>0</th>\n",
       "      <td>576</td>\n",
       "    </tr>\n",
       "  </tbody>\n",
       "</table>\n",
       "</div>"
      ],
      "text/plain": [
       "   Total Players\n",
       "0            576"
      ]
     },
     "execution_count": 5,
     "metadata": {},
     "output_type": "execute_result"
    }
   ],
   "source": [
    "#finds unique player id\n",
    "totalplayers = purchase_data['SN'].nunique()\n",
    "\n",
    "#makes dictionary of player number\n",
    "playerdic = {'Total Players': totalplayers}\n",
    "\n",
    "#outputs player number as dataframe\n",
    "pd.DataFrame(playerdic, index =[0])"
   ]
  },
  {
   "cell_type": "markdown",
   "metadata": {},
   "source": [
    "<h3>Purchasing Analysis (Total)</h3>"
   ]
  },
  {
   "cell_type": "code",
   "execution_count": 6,
   "metadata": {},
   "outputs": [],
   "source": [
    "#creates summary dictionary from purchase_data\n",
    "summary = {}\n",
    "summary['Number of Unique Items'] = purchase_data['Item Name'].nunique()\n",
    "summary['Average Price'] = purchase_data['Price'].mean()\n",
    "summary['Total Number of Purchases'] = purchase_data['Purchase ID'].nunique()\n",
    "summary['Total Revenue'] = purchase_data['Price'].sum()"
   ]
  },
  {
   "cell_type": "code",
   "execution_count": 7,
   "metadata": {},
   "outputs": [
    {
     "data": {
      "text/html": [
       "<style  type=\"text/css\" >\n",
       "</style><table id=\"T_4a0f6780_938f_11eb_9ed6_97f8bd0cb744\" ><thead>    <tr>        <th class=\"blank level0\" ></th>        <th class=\"col_heading level0 col0\" >Number of Unique Items</th>        <th class=\"col_heading level0 col1\" >Average Price</th>        <th class=\"col_heading level0 col2\" >Total Number of Purchases</th>        <th class=\"col_heading level0 col3\" >Total Revenue</th>    </tr></thead><tbody>\n",
       "                <tr>\n",
       "                        <th id=\"T_4a0f6780_938f_11eb_9ed6_97f8bd0cb744level0_row0\" class=\"row_heading level0 row0\" >0</th>\n",
       "                        <td id=\"T_4a0f6780_938f_11eb_9ed6_97f8bd0cb744row0_col0\" class=\"data row0 col0\" >179</td>\n",
       "                        <td id=\"T_4a0f6780_938f_11eb_9ed6_97f8bd0cb744row0_col1\" class=\"data row0 col1\" >$3.05</td>\n",
       "                        <td id=\"T_4a0f6780_938f_11eb_9ed6_97f8bd0cb744row0_col2\" class=\"data row0 col2\" >780</td>\n",
       "                        <td id=\"T_4a0f6780_938f_11eb_9ed6_97f8bd0cb744row0_col3\" class=\"data row0 col3\" >$2379.77</td>\n",
       "            </tr>\n",
       "    </tbody></table>"
      ],
      "text/plain": [
       "<pandas.io.formats.style.Styler at 0x25f3a380850>"
      ]
     },
     "execution_count": 7,
     "metadata": {},
     "output_type": "execute_result"
    }
   ],
   "source": [
    "#converts summary dictionary to dataframe\n",
    "summarydf = pd.DataFrame(summary, index = [0])\n",
    "\n",
    "#displays formatted dataframe \n",
    "summarydf.style.format({'Average Price':'${:.2f}', 'Total Revenue':'${:.2f}'})"
   ]
  },
  {
   "cell_type": "markdown",
   "metadata": {},
   "source": [
    "<h3>Gender Demographics</h3>"
   ]
  },
  {
   "cell_type": "code",
   "execution_count": 17,
   "metadata": {},
   "outputs": [
    {
     "data": {
      "text/html": [
       "<style  type=\"text/css\" >\n",
       "</style><table id=\"T_e177995e_9391_11eb_8acf_97f8bd0cb744\" ><thead>    <tr>        <th class=\"blank level0\" ></th>        <th class=\"col_heading level0 col0\" >Total Count</th>        <th class=\"col_heading level0 col1\" >Percentage of Players</th>    </tr>    <tr>        <th class=\"index_name level0\" >Gender</th>        <th class=\"blank\" ></th>        <th class=\"blank\" ></th>    </tr></thead><tbody>\n",
       "                <tr>\n",
       "                        <th id=\"T_e177995e_9391_11eb_8acf_97f8bd0cb744level0_row0\" class=\"row_heading level0 row0\" >Male</th>\n",
       "                        <td id=\"T_e177995e_9391_11eb_8acf_97f8bd0cb744row0_col0\" class=\"data row0 col0\" >484</td>\n",
       "                        <td id=\"T_e177995e_9391_11eb_8acf_97f8bd0cb744row0_col1\" class=\"data row0 col1\" >84.03%</td>\n",
       "            </tr>\n",
       "            <tr>\n",
       "                        <th id=\"T_e177995e_9391_11eb_8acf_97f8bd0cb744level0_row1\" class=\"row_heading level0 row1\" >Female</th>\n",
       "                        <td id=\"T_e177995e_9391_11eb_8acf_97f8bd0cb744row1_col0\" class=\"data row1 col0\" >81</td>\n",
       "                        <td id=\"T_e177995e_9391_11eb_8acf_97f8bd0cb744row1_col1\" class=\"data row1 col1\" >14.06%</td>\n",
       "            </tr>\n",
       "            <tr>\n",
       "                        <th id=\"T_e177995e_9391_11eb_8acf_97f8bd0cb744level0_row2\" class=\"row_heading level0 row2\" >Other / Non-Disclosed</th>\n",
       "                        <td id=\"T_e177995e_9391_11eb_8acf_97f8bd0cb744row2_col0\" class=\"data row2 col0\" >11</td>\n",
       "                        <td id=\"T_e177995e_9391_11eb_8acf_97f8bd0cb744row2_col1\" class=\"data row2 col1\" >1.91%</td>\n",
       "            </tr>\n",
       "    </tbody></table>"
      ],
      "text/plain": [
       "<pandas.io.formats.style.Styler at 0x25f3b53ef40>"
      ]
     },
     "execution_count": 17,
     "metadata": {},
     "output_type": "execute_result"
    }
   ],
   "source": [
    "#groups by gender and counts unique players\n",
    "gendernumber = purchase_data.groupby('Gender')['SN'].nunique()\n",
    "\n",
    "#finds percntage of players per gender catagory\n",
    "percent = gendernumber / totalplayers \n",
    "\n",
    "#creates dictionary of gender statistics\n",
    "genderdic = {'Total Count': gendernumber, 'Percentage of Players': percent }\n",
    "\n",
    "#converts to dataframe\n",
    "df = pd.DataFrame(genderdic).sort_values(\"Total Count\", ascending = False)\n",
    "\n",
    "#displays and formats dataframe\n",
    "df.style.format({'Percentage of Players':'{:.2%}'})"
   ]
  },
  {
   "cell_type": "markdown",
   "metadata": {},
   "source": [
    "<h3>Purchasing Analysis (Gender)</h3>"
   ]
  },
  {
   "cell_type": "code",
   "execution_count": 18,
   "metadata": {},
   "outputs": [
    {
     "data": {
      "text/html": [
       "<style  type=\"text/css\" >\n",
       "</style><table id=\"T_f1f801a8_9391_11eb_bdb7_97f8bd0cb744\" ><thead>    <tr>        <th class=\"blank level0\" ></th>        <th class=\"col_heading level0 col0\" >Purchase Count</th>        <th class=\"col_heading level0 col1\" >Average Price</th>        <th class=\"col_heading level0 col2\" >Total Price</th>        <th class=\"col_heading level0 col3\" >Per Player</th>    </tr>    <tr>        <th class=\"index_name level0\" >Gender</th>        <th class=\"blank\" ></th>        <th class=\"blank\" ></th>        <th class=\"blank\" ></th>        <th class=\"blank\" ></th>    </tr></thead><tbody>\n",
       "                <tr>\n",
       "                        <th id=\"T_f1f801a8_9391_11eb_bdb7_97f8bd0cb744level0_row0\" class=\"row_heading level0 row0\" >Male</th>\n",
       "                        <td id=\"T_f1f801a8_9391_11eb_bdb7_97f8bd0cb744row0_col0\" class=\"data row0 col0\" >652</td>\n",
       "                        <td id=\"T_f1f801a8_9391_11eb_bdb7_97f8bd0cb744row0_col1\" class=\"data row0 col1\" >$3.02</td>\n",
       "                        <td id=\"T_f1f801a8_9391_11eb_bdb7_97f8bd0cb744row0_col2\" class=\"data row0 col2\" >$1967.64</td>\n",
       "                        <td id=\"T_f1f801a8_9391_11eb_bdb7_97f8bd0cb744row0_col3\" class=\"data row0 col3\" >$4.07</td>\n",
       "            </tr>\n",
       "            <tr>\n",
       "                        <th id=\"T_f1f801a8_9391_11eb_bdb7_97f8bd0cb744level0_row1\" class=\"row_heading level0 row1\" >Female</th>\n",
       "                        <td id=\"T_f1f801a8_9391_11eb_bdb7_97f8bd0cb744row1_col0\" class=\"data row1 col0\" >113</td>\n",
       "                        <td id=\"T_f1f801a8_9391_11eb_bdb7_97f8bd0cb744row1_col1\" class=\"data row1 col1\" >$3.20</td>\n",
       "                        <td id=\"T_f1f801a8_9391_11eb_bdb7_97f8bd0cb744row1_col2\" class=\"data row1 col2\" >$361.94</td>\n",
       "                        <td id=\"T_f1f801a8_9391_11eb_bdb7_97f8bd0cb744row1_col3\" class=\"data row1 col3\" >$4.47</td>\n",
       "            </tr>\n",
       "            <tr>\n",
       "                        <th id=\"T_f1f801a8_9391_11eb_bdb7_97f8bd0cb744level0_row2\" class=\"row_heading level0 row2\" >Other / Non-Disclosed</th>\n",
       "                        <td id=\"T_f1f801a8_9391_11eb_bdb7_97f8bd0cb744row2_col0\" class=\"data row2 col0\" >15</td>\n",
       "                        <td id=\"T_f1f801a8_9391_11eb_bdb7_97f8bd0cb744row2_col1\" class=\"data row2 col1\" >$3.35</td>\n",
       "                        <td id=\"T_f1f801a8_9391_11eb_bdb7_97f8bd0cb744row2_col2\" class=\"data row2 col2\" >$50.19</td>\n",
       "                        <td id=\"T_f1f801a8_9391_11eb_bdb7_97f8bd0cb744row2_col3\" class=\"data row2 col3\" >$4.56</td>\n",
       "            </tr>\n",
       "    </tbody></table>"
      ],
      "text/plain": [
       "<pandas.io.formats.style.Styler at 0x25f3a380970>"
      ]
     },
     "execution_count": 18,
     "metadata": {},
     "output_type": "execute_result"
    }
   ],
   "source": [
    "#groups by gender to get purchase statistics\n",
    "purchasecount = purchase_data.groupby('Gender')['Purchase ID'].count()\n",
    "purchaseave = purchase_data.groupby('Gender')['Price'].mean()\n",
    "purchasetotal = purchase_data.groupby('Gender')['Price'].sum()\n",
    "perplayer = purchasetotal/gendernumber\n",
    "\n",
    "#creates dictionary of gender purchase statistics\n",
    "purchasedic = {'Purchase Count': purchasecount, 'Average Price': purchaseave, 'Total Price': purchasetotal, 'Per Player': perplayer}\n",
    "\n",
    "#converts dictionary to dataframe\n",
    "pdf = pd.DataFrame(purchasedic).sort_values(\"Purchase Count\", ascending = False)\n",
    "\n",
    "#displays formatted dataframe\n",
    "pdf.style.format({'Average Price': '${:.2f}', 'Total Price': '${:.2f}','Per Player': '${:.2f}'})"
   ]
  },
  {
   "cell_type": "markdown",
   "metadata": {},
   "source": [
    "<h3>Age Demographics</h3>"
   ]
  },
  {
   "cell_type": "code",
   "execution_count": 10,
   "metadata": {},
   "outputs": [
    {
     "data": {
      "text/html": [
       "<style  type=\"text/css\" >\n",
       "</style><table id=\"T_52f74316_938f_11eb_b20e_97f8bd0cb744\" ><thead>    <tr>        <th class=\"blank level0\" ></th>        <th class=\"col_heading level0 col0\" >Total Count</th>        <th class=\"col_heading level0 col1\" >Percentage of Players</th>    </tr>    <tr>        <th class=\"index_name level0\" >Age Range</th>        <th class=\"blank\" ></th>        <th class=\"blank\" ></th>    </tr></thead><tbody>\n",
       "                <tr>\n",
       "                        <th id=\"T_52f74316_938f_11eb_b20e_97f8bd0cb744level0_row0\" class=\"row_heading level0 row0\" ><10</th>\n",
       "                        <td id=\"T_52f74316_938f_11eb_b20e_97f8bd0cb744row0_col0\" class=\"data row0 col0\" >17</td>\n",
       "                        <td id=\"T_52f74316_938f_11eb_b20e_97f8bd0cb744row0_col1\" class=\"data row0 col1\" >2.95%</td>\n",
       "            </tr>\n",
       "            <tr>\n",
       "                        <th id=\"T_52f74316_938f_11eb_b20e_97f8bd0cb744level0_row1\" class=\"row_heading level0 row1\" >10-14</th>\n",
       "                        <td id=\"T_52f74316_938f_11eb_b20e_97f8bd0cb744row1_col0\" class=\"data row1 col0\" >22</td>\n",
       "                        <td id=\"T_52f74316_938f_11eb_b20e_97f8bd0cb744row1_col1\" class=\"data row1 col1\" >3.82%</td>\n",
       "            </tr>\n",
       "            <tr>\n",
       "                        <th id=\"T_52f74316_938f_11eb_b20e_97f8bd0cb744level0_row2\" class=\"row_heading level0 row2\" >15-19</th>\n",
       "                        <td id=\"T_52f74316_938f_11eb_b20e_97f8bd0cb744row2_col0\" class=\"data row2 col0\" >107</td>\n",
       "                        <td id=\"T_52f74316_938f_11eb_b20e_97f8bd0cb744row2_col1\" class=\"data row2 col1\" >18.58%</td>\n",
       "            </tr>\n",
       "            <tr>\n",
       "                        <th id=\"T_52f74316_938f_11eb_b20e_97f8bd0cb744level0_row3\" class=\"row_heading level0 row3\" >20-24</th>\n",
       "                        <td id=\"T_52f74316_938f_11eb_b20e_97f8bd0cb744row3_col0\" class=\"data row3 col0\" >258</td>\n",
       "                        <td id=\"T_52f74316_938f_11eb_b20e_97f8bd0cb744row3_col1\" class=\"data row3 col1\" >44.79%</td>\n",
       "            </tr>\n",
       "            <tr>\n",
       "                        <th id=\"T_52f74316_938f_11eb_b20e_97f8bd0cb744level0_row4\" class=\"row_heading level0 row4\" >25-29</th>\n",
       "                        <td id=\"T_52f74316_938f_11eb_b20e_97f8bd0cb744row4_col0\" class=\"data row4 col0\" >77</td>\n",
       "                        <td id=\"T_52f74316_938f_11eb_b20e_97f8bd0cb744row4_col1\" class=\"data row4 col1\" >13.37%</td>\n",
       "            </tr>\n",
       "            <tr>\n",
       "                        <th id=\"T_52f74316_938f_11eb_b20e_97f8bd0cb744level0_row5\" class=\"row_heading level0 row5\" >30-34</th>\n",
       "                        <td id=\"T_52f74316_938f_11eb_b20e_97f8bd0cb744row5_col0\" class=\"data row5 col0\" >52</td>\n",
       "                        <td id=\"T_52f74316_938f_11eb_b20e_97f8bd0cb744row5_col1\" class=\"data row5 col1\" >9.03%</td>\n",
       "            </tr>\n",
       "            <tr>\n",
       "                        <th id=\"T_52f74316_938f_11eb_b20e_97f8bd0cb744level0_row6\" class=\"row_heading level0 row6\" >35-39</th>\n",
       "                        <td id=\"T_52f74316_938f_11eb_b20e_97f8bd0cb744row6_col0\" class=\"data row6 col0\" >31</td>\n",
       "                        <td id=\"T_52f74316_938f_11eb_b20e_97f8bd0cb744row6_col1\" class=\"data row6 col1\" >5.38%</td>\n",
       "            </tr>\n",
       "            <tr>\n",
       "                        <th id=\"T_52f74316_938f_11eb_b20e_97f8bd0cb744level0_row7\" class=\"row_heading level0 row7\" >40+</th>\n",
       "                        <td id=\"T_52f74316_938f_11eb_b20e_97f8bd0cb744row7_col0\" class=\"data row7 col0\" >12</td>\n",
       "                        <td id=\"T_52f74316_938f_11eb_b20e_97f8bd0cb744row7_col1\" class=\"data row7 col1\" >2.08%</td>\n",
       "            </tr>\n",
       "    </tbody></table>"
      ],
      "text/plain": [
       "<pandas.io.formats.style.Styler at 0x25f382ceb20>"
      ]
     },
     "execution_count": 10,
     "metadata": {},
     "output_type": "execute_result"
    }
   ],
   "source": [
    "#list of age bins\n",
    "bins = [0, 9, 14, 19, 24, 29, 34, 39, 100]\n",
    "\n",
    "#list of bin names\n",
    "range_names = [\"<10\", \"10-14\", \"15-19\", \"20-24\", \"25-29\",\"30-34\",\"35-39\",\"40+\" ]\n",
    "\n",
    "#appends bins to purchase_data\n",
    "purchase_data[\"Age Range\"] = pd.cut(purchase_data[\"Age\"], bins, labels = range_names, include_lowest = True)\n",
    "\n",
    "#groups by bins to obtain age group statistics\n",
    "age = purchase_data.groupby('Age Range')['SN'].nunique()\n",
    "percentage_age = age/totalplayers\n",
    "agedic = {'Total Count': age, 'Percentage of Players': percentage_age}\n",
    "age_summary = pd.DataFrame(agedic)\n",
    "age_summary.style.format({'Percentage of Players':'{:.2%}'})"
   ]
  },
  {
   "cell_type": "markdown",
   "metadata": {},
   "source": [
    "<h3>Purchasing Analysis (Age)</h3>"
   ]
  },
  {
   "cell_type": "code",
   "execution_count": 12,
   "metadata": {},
   "outputs": [
    {
     "data": {
      "text/html": [
       "<style  type=\"text/css\" >\n",
       "</style><table id=\"T_063a8084_9390_11eb_855e_97f8bd0cb744\" ><thead>    <tr>        <th class=\"blank level0\" ></th>        <th class=\"col_heading level0 col0\" >Purchase Count</th>        <th class=\"col_heading level0 col1\" >Average Purchase Price</th>        <th class=\"col_heading level0 col2\" >Total Purchase Value</th>        <th class=\"col_heading level0 col3\" >Avg Total Purchase per Player</th>    </tr>    <tr>        <th class=\"index_name level0\" >Age Range</th>        <th class=\"blank\" ></th>        <th class=\"blank\" ></th>        <th class=\"blank\" ></th>        <th class=\"blank\" ></th>    </tr></thead><tbody>\n",
       "                <tr>\n",
       "                        <th id=\"T_063a8084_9390_11eb_855e_97f8bd0cb744level0_row0\" class=\"row_heading level0 row0\" ><10</th>\n",
       "                        <td id=\"T_063a8084_9390_11eb_855e_97f8bd0cb744row0_col0\" class=\"data row0 col0\" >23</td>\n",
       "                        <td id=\"T_063a8084_9390_11eb_855e_97f8bd0cb744row0_col1\" class=\"data row0 col1\" >$3.35</td>\n",
       "                        <td id=\"T_063a8084_9390_11eb_855e_97f8bd0cb744row0_col2\" class=\"data row0 col2\" >$77.13</td>\n",
       "                        <td id=\"T_063a8084_9390_11eb_855e_97f8bd0cb744row0_col3\" class=\"data row0 col3\" >$4.54</td>\n",
       "            </tr>\n",
       "            <tr>\n",
       "                        <th id=\"T_063a8084_9390_11eb_855e_97f8bd0cb744level0_row1\" class=\"row_heading level0 row1\" >10-14</th>\n",
       "                        <td id=\"T_063a8084_9390_11eb_855e_97f8bd0cb744row1_col0\" class=\"data row1 col0\" >28</td>\n",
       "                        <td id=\"T_063a8084_9390_11eb_855e_97f8bd0cb744row1_col1\" class=\"data row1 col1\" >$2.96</td>\n",
       "                        <td id=\"T_063a8084_9390_11eb_855e_97f8bd0cb744row1_col2\" class=\"data row1 col2\" >$82.78</td>\n",
       "                        <td id=\"T_063a8084_9390_11eb_855e_97f8bd0cb744row1_col3\" class=\"data row1 col3\" >$3.76</td>\n",
       "            </tr>\n",
       "            <tr>\n",
       "                        <th id=\"T_063a8084_9390_11eb_855e_97f8bd0cb744level0_row2\" class=\"row_heading level0 row2\" >15-19</th>\n",
       "                        <td id=\"T_063a8084_9390_11eb_855e_97f8bd0cb744row2_col0\" class=\"data row2 col0\" >136</td>\n",
       "                        <td id=\"T_063a8084_9390_11eb_855e_97f8bd0cb744row2_col1\" class=\"data row2 col1\" >$3.04</td>\n",
       "                        <td id=\"T_063a8084_9390_11eb_855e_97f8bd0cb744row2_col2\" class=\"data row2 col2\" >$412.89</td>\n",
       "                        <td id=\"T_063a8084_9390_11eb_855e_97f8bd0cb744row2_col3\" class=\"data row2 col3\" >$3.86</td>\n",
       "            </tr>\n",
       "            <tr>\n",
       "                        <th id=\"T_063a8084_9390_11eb_855e_97f8bd0cb744level0_row3\" class=\"row_heading level0 row3\" >20-24</th>\n",
       "                        <td id=\"T_063a8084_9390_11eb_855e_97f8bd0cb744row3_col0\" class=\"data row3 col0\" >365</td>\n",
       "                        <td id=\"T_063a8084_9390_11eb_855e_97f8bd0cb744row3_col1\" class=\"data row3 col1\" >$3.05</td>\n",
       "                        <td id=\"T_063a8084_9390_11eb_855e_97f8bd0cb744row3_col2\" class=\"data row3 col2\" >$1114.06</td>\n",
       "                        <td id=\"T_063a8084_9390_11eb_855e_97f8bd0cb744row3_col3\" class=\"data row3 col3\" >$4.32</td>\n",
       "            </tr>\n",
       "            <tr>\n",
       "                        <th id=\"T_063a8084_9390_11eb_855e_97f8bd0cb744level0_row4\" class=\"row_heading level0 row4\" >25-29</th>\n",
       "                        <td id=\"T_063a8084_9390_11eb_855e_97f8bd0cb744row4_col0\" class=\"data row4 col0\" >101</td>\n",
       "                        <td id=\"T_063a8084_9390_11eb_855e_97f8bd0cb744row4_col1\" class=\"data row4 col1\" >$2.90</td>\n",
       "                        <td id=\"T_063a8084_9390_11eb_855e_97f8bd0cb744row4_col2\" class=\"data row4 col2\" >$293.00</td>\n",
       "                        <td id=\"T_063a8084_9390_11eb_855e_97f8bd0cb744row4_col3\" class=\"data row4 col3\" >$3.81</td>\n",
       "            </tr>\n",
       "            <tr>\n",
       "                        <th id=\"T_063a8084_9390_11eb_855e_97f8bd0cb744level0_row5\" class=\"row_heading level0 row5\" >30-34</th>\n",
       "                        <td id=\"T_063a8084_9390_11eb_855e_97f8bd0cb744row5_col0\" class=\"data row5 col0\" >73</td>\n",
       "                        <td id=\"T_063a8084_9390_11eb_855e_97f8bd0cb744row5_col1\" class=\"data row5 col1\" >$2.93</td>\n",
       "                        <td id=\"T_063a8084_9390_11eb_855e_97f8bd0cb744row5_col2\" class=\"data row5 col2\" >$214.00</td>\n",
       "                        <td id=\"T_063a8084_9390_11eb_855e_97f8bd0cb744row5_col3\" class=\"data row5 col3\" >$4.12</td>\n",
       "            </tr>\n",
       "            <tr>\n",
       "                        <th id=\"T_063a8084_9390_11eb_855e_97f8bd0cb744level0_row6\" class=\"row_heading level0 row6\" >35-39</th>\n",
       "                        <td id=\"T_063a8084_9390_11eb_855e_97f8bd0cb744row6_col0\" class=\"data row6 col0\" >41</td>\n",
       "                        <td id=\"T_063a8084_9390_11eb_855e_97f8bd0cb744row6_col1\" class=\"data row6 col1\" >$3.60</td>\n",
       "                        <td id=\"T_063a8084_9390_11eb_855e_97f8bd0cb744row6_col2\" class=\"data row6 col2\" >$147.67</td>\n",
       "                        <td id=\"T_063a8084_9390_11eb_855e_97f8bd0cb744row6_col3\" class=\"data row6 col3\" >$4.76</td>\n",
       "            </tr>\n",
       "            <tr>\n",
       "                        <th id=\"T_063a8084_9390_11eb_855e_97f8bd0cb744level0_row7\" class=\"row_heading level0 row7\" >40+</th>\n",
       "                        <td id=\"T_063a8084_9390_11eb_855e_97f8bd0cb744row7_col0\" class=\"data row7 col0\" >13</td>\n",
       "                        <td id=\"T_063a8084_9390_11eb_855e_97f8bd0cb744row7_col1\" class=\"data row7 col1\" >$2.94</td>\n",
       "                        <td id=\"T_063a8084_9390_11eb_855e_97f8bd0cb744row7_col2\" class=\"data row7 col2\" >$38.24</td>\n",
       "                        <td id=\"T_063a8084_9390_11eb_855e_97f8bd0cb744row7_col3\" class=\"data row7 col3\" >$3.19</td>\n",
       "            </tr>\n",
       "    </tbody></table>"
      ],
      "text/plain": [
       "<pandas.io.formats.style.Styler at 0x25f3b4d11c0>"
      ]
     },
     "execution_count": 12,
     "metadata": {},
     "output_type": "execute_result"
    }
   ],
   "source": [
    "#groups by bins to obtain age group purchasing statistics\n",
    "purchaseagecount = purchase_data.groupby('Age Range')['Purchase ID'].count()\n",
    "purchaseageave = purchase_data.groupby('Age Range')['Price'].mean()\n",
    "purchaseagetotal = purchase_data.groupby('Age Range')['Price'].sum()\n",
    "perageplayer = purchaseagetotal/age\n",
    "\n",
    "#creates dictionary of age purchase statistics\n",
    "purchaseagedic = {'Purchase Count': purchaseagecount, 'Average Purchase Price': purchaseageave, 'Total Purchase Value': purchaseagetotal, 'Avg Total Purchase per Player': perageplayer}\n",
    "\n",
    "#converts dictionary to dataframe\n",
    "adf = pd.DataFrame(purchaseagedic)\n",
    "\n",
    "#displays formatted dataframe\n",
    "adf.style.format({'Average Purchase Price': '${:.2f}', 'Total Purchase Value': '${:.2f}','Avg Total Purchase per Player': '${:.2f}'})"
   ]
  },
  {
   "cell_type": "markdown",
   "metadata": {},
   "source": [
    "<h3>Top Spenders</h3>"
   ]
  },
  {
   "cell_type": "code",
   "execution_count": 13,
   "metadata": {},
   "outputs": [
    {
     "data": {
      "text/html": [
       "<style  type=\"text/css\" >\n",
       "</style><table id=\"T_7b4ba0c0_9390_11eb_918f_97f8bd0cb744\" ><thead>    <tr>        <th class=\"blank level0\" ></th>        <th class=\"col_heading level0 col0\" >Purchase Count</th>        <th class=\"col_heading level0 col1\" >Average Purchase Price</th>        <th class=\"col_heading level0 col2\" >Total Purchase Value</th>    </tr>    <tr>        <th class=\"index_name level0\" >SN</th>        <th class=\"blank\" ></th>        <th class=\"blank\" ></th>        <th class=\"blank\" ></th>    </tr></thead><tbody>\n",
       "                <tr>\n",
       "                        <th id=\"T_7b4ba0c0_9390_11eb_918f_97f8bd0cb744level0_row0\" class=\"row_heading level0 row0\" >Lisosia93</th>\n",
       "                        <td id=\"T_7b4ba0c0_9390_11eb_918f_97f8bd0cb744row0_col0\" class=\"data row0 col0\" >5</td>\n",
       "                        <td id=\"T_7b4ba0c0_9390_11eb_918f_97f8bd0cb744row0_col1\" class=\"data row0 col1\" >$3.79</td>\n",
       "                        <td id=\"T_7b4ba0c0_9390_11eb_918f_97f8bd0cb744row0_col2\" class=\"data row0 col2\" >$18.96</td>\n",
       "            </tr>\n",
       "            <tr>\n",
       "                        <th id=\"T_7b4ba0c0_9390_11eb_918f_97f8bd0cb744level0_row1\" class=\"row_heading level0 row1\" >Idastidru52</th>\n",
       "                        <td id=\"T_7b4ba0c0_9390_11eb_918f_97f8bd0cb744row1_col0\" class=\"data row1 col0\" >4</td>\n",
       "                        <td id=\"T_7b4ba0c0_9390_11eb_918f_97f8bd0cb744row1_col1\" class=\"data row1 col1\" >$3.86</td>\n",
       "                        <td id=\"T_7b4ba0c0_9390_11eb_918f_97f8bd0cb744row1_col2\" class=\"data row1 col2\" >$15.45</td>\n",
       "            </tr>\n",
       "            <tr>\n",
       "                        <th id=\"T_7b4ba0c0_9390_11eb_918f_97f8bd0cb744level0_row2\" class=\"row_heading level0 row2\" >Chamjask73</th>\n",
       "                        <td id=\"T_7b4ba0c0_9390_11eb_918f_97f8bd0cb744row2_col0\" class=\"data row2 col0\" >3</td>\n",
       "                        <td id=\"T_7b4ba0c0_9390_11eb_918f_97f8bd0cb744row2_col1\" class=\"data row2 col1\" >$4.61</td>\n",
       "                        <td id=\"T_7b4ba0c0_9390_11eb_918f_97f8bd0cb744row2_col2\" class=\"data row2 col2\" >$13.83</td>\n",
       "            </tr>\n",
       "            <tr>\n",
       "                        <th id=\"T_7b4ba0c0_9390_11eb_918f_97f8bd0cb744level0_row3\" class=\"row_heading level0 row3\" >Iral74</th>\n",
       "                        <td id=\"T_7b4ba0c0_9390_11eb_918f_97f8bd0cb744row3_col0\" class=\"data row3 col0\" >4</td>\n",
       "                        <td id=\"T_7b4ba0c0_9390_11eb_918f_97f8bd0cb744row3_col1\" class=\"data row3 col1\" >$3.40</td>\n",
       "                        <td id=\"T_7b4ba0c0_9390_11eb_918f_97f8bd0cb744row3_col2\" class=\"data row3 col2\" >$13.62</td>\n",
       "            </tr>\n",
       "            <tr>\n",
       "                        <th id=\"T_7b4ba0c0_9390_11eb_918f_97f8bd0cb744level0_row4\" class=\"row_heading level0 row4\" >Iskadarya95</th>\n",
       "                        <td id=\"T_7b4ba0c0_9390_11eb_918f_97f8bd0cb744row4_col0\" class=\"data row4 col0\" >3</td>\n",
       "                        <td id=\"T_7b4ba0c0_9390_11eb_918f_97f8bd0cb744row4_col1\" class=\"data row4 col1\" >$4.37</td>\n",
       "                        <td id=\"T_7b4ba0c0_9390_11eb_918f_97f8bd0cb744row4_col2\" class=\"data row4 col2\" >$13.10</td>\n",
       "            </tr>\n",
       "    </tbody></table>"
      ],
      "text/plain": [
       "<pandas.io.formats.style.Styler at 0x25f3b52a1c0>"
      ]
     },
     "execution_count": 13,
     "metadata": {},
     "output_type": "execute_result"
    }
   ],
   "source": [
    "#groups by player id to obtain player purchasing statistics\n",
    "tsmean = purchase_data.groupby('SN')['Price'].mean()\n",
    "tstotal = purchase_data.groupby('SN')['Purchase ID'].count()\n",
    "tssum = purchase_data.groupby('SN')['Price'].sum()\n",
    "\n",
    "#creates dictionary of player purchase statistics\n",
    "tsdic = {'Purchase Count': tstotal, 'Average Purchase Price': tsmean, 'Total Purchase Value': tssum}\n",
    "\n",
    "#converts dictionary to dataframe specifies preview of top entries\n",
    "topdf = pd.DataFrame(tsdic).sort_values(\"Total Purchase Value\", ascending = False).head()\n",
    "\n",
    "#displays formatted dataframe\n",
    "topdf.style.format({'Average Purchase Price': '${:.2f}', 'Total Purchase Value': '${:.2f}'})\n"
   ]
  },
  {
   "cell_type": "markdown",
   "metadata": {},
   "source": [
    "<h3>Most Popular Items</h3>"
   ]
  },
  {
   "cell_type": "code",
   "execution_count": 14,
   "metadata": {},
   "outputs": [
    {
     "data": {
      "text/html": [
       "<style  type=\"text/css\" >\n",
       "</style><table id=\"T_c4f943e6_9390_11eb_87fb_97f8bd0cb744\" ><thead>    <tr>        <th class=\"blank\" ></th>        <th class=\"blank level0\" ></th>        <th class=\"col_heading level0 col0\" >Purchase Count</th>        <th class=\"col_heading level0 col1\" >Item Price</th>        <th class=\"col_heading level0 col2\" >Total Purchase Value</th>    </tr>    <tr>        <th class=\"index_name level0\" >Item ID</th>        <th class=\"index_name level1\" >Item Name</th>        <th class=\"blank\" ></th>        <th class=\"blank\" ></th>        <th class=\"blank\" ></th>    </tr></thead><tbody>\n",
       "                <tr>\n",
       "                        <th id=\"T_c4f943e6_9390_11eb_87fb_97f8bd0cb744level0_row0\" class=\"row_heading level0 row0\" >92</th>\n",
       "                        <th id=\"T_c4f943e6_9390_11eb_87fb_97f8bd0cb744level1_row0\" class=\"row_heading level1 row0\" >Final Critic</th>\n",
       "                        <td id=\"T_c4f943e6_9390_11eb_87fb_97f8bd0cb744row0_col0\" class=\"data row0 col0\" >13</td>\n",
       "                        <td id=\"T_c4f943e6_9390_11eb_87fb_97f8bd0cb744row0_col1\" class=\"data row0 col1\" >$4.61</td>\n",
       "                        <td id=\"T_c4f943e6_9390_11eb_87fb_97f8bd0cb744row0_col2\" class=\"data row0 col2\" >$59.99</td>\n",
       "            </tr>\n",
       "            <tr>\n",
       "                        <th id=\"T_c4f943e6_9390_11eb_87fb_97f8bd0cb744level0_row1\" class=\"row_heading level0 row1\" >178</th>\n",
       "                        <th id=\"T_c4f943e6_9390_11eb_87fb_97f8bd0cb744level1_row1\" class=\"row_heading level1 row1\" >Oathbreaker, Last Hope of the Breaking Storm</th>\n",
       "                        <td id=\"T_c4f943e6_9390_11eb_87fb_97f8bd0cb744row1_col0\" class=\"data row1 col0\" >12</td>\n",
       "                        <td id=\"T_c4f943e6_9390_11eb_87fb_97f8bd0cb744row1_col1\" class=\"data row1 col1\" >$4.23</td>\n",
       "                        <td id=\"T_c4f943e6_9390_11eb_87fb_97f8bd0cb744row1_col2\" class=\"data row1 col2\" >$50.76</td>\n",
       "            </tr>\n",
       "            <tr>\n",
       "                        <th id=\"T_c4f943e6_9390_11eb_87fb_97f8bd0cb744level0_row2\" class=\"row_heading level0 row2\" >145</th>\n",
       "                        <th id=\"T_c4f943e6_9390_11eb_87fb_97f8bd0cb744level1_row2\" class=\"row_heading level1 row2\" >Fiery Glass Crusader</th>\n",
       "                        <td id=\"T_c4f943e6_9390_11eb_87fb_97f8bd0cb744row2_col0\" class=\"data row2 col0\" >9</td>\n",
       "                        <td id=\"T_c4f943e6_9390_11eb_87fb_97f8bd0cb744row2_col1\" class=\"data row2 col1\" >$4.58</td>\n",
       "                        <td id=\"T_c4f943e6_9390_11eb_87fb_97f8bd0cb744row2_col2\" class=\"data row2 col2\" >$41.22</td>\n",
       "            </tr>\n",
       "            <tr>\n",
       "                        <th id=\"T_c4f943e6_9390_11eb_87fb_97f8bd0cb744level0_row3\" class=\"row_heading level0 row3\" >132</th>\n",
       "                        <th id=\"T_c4f943e6_9390_11eb_87fb_97f8bd0cb744level1_row3\" class=\"row_heading level1 row3\" >Persuasion</th>\n",
       "                        <td id=\"T_c4f943e6_9390_11eb_87fb_97f8bd0cb744row3_col0\" class=\"data row3 col0\" >9</td>\n",
       "                        <td id=\"T_c4f943e6_9390_11eb_87fb_97f8bd0cb744row3_col1\" class=\"data row3 col1\" >$3.22</td>\n",
       "                        <td id=\"T_c4f943e6_9390_11eb_87fb_97f8bd0cb744row3_col2\" class=\"data row3 col2\" >$28.99</td>\n",
       "            </tr>\n",
       "            <tr>\n",
       "                        <th id=\"T_c4f943e6_9390_11eb_87fb_97f8bd0cb744level0_row4\" class=\"row_heading level0 row4\" >108</th>\n",
       "                        <th id=\"T_c4f943e6_9390_11eb_87fb_97f8bd0cb744level1_row4\" class=\"row_heading level1 row4\" >Extraction, Quickblade Of Trembling Hands</th>\n",
       "                        <td id=\"T_c4f943e6_9390_11eb_87fb_97f8bd0cb744row4_col0\" class=\"data row4 col0\" >9</td>\n",
       "                        <td id=\"T_c4f943e6_9390_11eb_87fb_97f8bd0cb744row4_col1\" class=\"data row4 col1\" >$3.53</td>\n",
       "                        <td id=\"T_c4f943e6_9390_11eb_87fb_97f8bd0cb744row4_col2\" class=\"data row4 col2\" >$31.77</td>\n",
       "            </tr>\n",
       "    </tbody></table>"
      ],
      "text/plain": [
       "<pandas.io.formats.style.Styler at 0x25f3b53ee20>"
      ]
     },
     "execution_count": 14,
     "metadata": {},
     "output_type": "execute_result"
    }
   ],
   "source": [
    "#groups by item id and name to obtain item purchasing statistics\n",
    "topitemsmean = purchase_data.groupby(['Item ID','Item Name'])['Price'].mean()\n",
    "topitemscount = purchase_data.groupby(['Item ID','Item Name'])['Price'].count()\n",
    "topitemstotal = purchase_data.groupby(['Item ID','Item Name'])['Price'].sum()\n",
    "\n",
    "#creates dictionary of item purchase statistics\n",
    "topitemsdic = {'Purchase Count': topitemscount, 'Item Price': topitemsmean, 'Total Purchase Value': topitemstotal}\n",
    "\n",
    "#converts dictionary to dataframe specifies preview of top entries and sort values by descending purchase count\n",
    "topidf = pd.DataFrame(topitemsdic).sort_values(\"Purchase Count\", ascending = False).head()\n",
    "\n",
    "#displays formatted dataframe\n",
    "topidf.style.format({'Item Price': '${:.2f}', 'Total Purchase Value': '${:.2f}'})"
   ]
  },
  {
   "cell_type": "markdown",
   "metadata": {},
   "source": [
    "<h3>Most Profitable Items</h3>"
   ]
  },
  {
   "cell_type": "code",
   "execution_count": 15,
   "metadata": {},
   "outputs": [
    {
     "data": {
      "text/html": [
       "<style  type=\"text/css\" >\n",
       "</style><table id=\"T_02193510_9391_11eb_96b5_97f8bd0cb744\" ><thead>    <tr>        <th class=\"blank\" ></th>        <th class=\"blank level0\" ></th>        <th class=\"col_heading level0 col0\" >Purchase Count</th>        <th class=\"col_heading level0 col1\" >Item Price</th>        <th class=\"col_heading level0 col2\" >Total Purchase Value</th>    </tr>    <tr>        <th class=\"index_name level0\" >Item ID</th>        <th class=\"index_name level1\" >Item Name</th>        <th class=\"blank\" ></th>        <th class=\"blank\" ></th>        <th class=\"blank\" ></th>    </tr></thead><tbody>\n",
       "                <tr>\n",
       "                        <th id=\"T_02193510_9391_11eb_96b5_97f8bd0cb744level0_row0\" class=\"row_heading level0 row0\" >92</th>\n",
       "                        <th id=\"T_02193510_9391_11eb_96b5_97f8bd0cb744level1_row0\" class=\"row_heading level1 row0\" >Final Critic</th>\n",
       "                        <td id=\"T_02193510_9391_11eb_96b5_97f8bd0cb744row0_col0\" class=\"data row0 col0\" >13</td>\n",
       "                        <td id=\"T_02193510_9391_11eb_96b5_97f8bd0cb744row0_col1\" class=\"data row0 col1\" >$4.61</td>\n",
       "                        <td id=\"T_02193510_9391_11eb_96b5_97f8bd0cb744row0_col2\" class=\"data row0 col2\" >$59.99</td>\n",
       "            </tr>\n",
       "            <tr>\n",
       "                        <th id=\"T_02193510_9391_11eb_96b5_97f8bd0cb744level0_row1\" class=\"row_heading level0 row1\" >178</th>\n",
       "                        <th id=\"T_02193510_9391_11eb_96b5_97f8bd0cb744level1_row1\" class=\"row_heading level1 row1\" >Oathbreaker, Last Hope of the Breaking Storm</th>\n",
       "                        <td id=\"T_02193510_9391_11eb_96b5_97f8bd0cb744row1_col0\" class=\"data row1 col0\" >12</td>\n",
       "                        <td id=\"T_02193510_9391_11eb_96b5_97f8bd0cb744row1_col1\" class=\"data row1 col1\" >$4.23</td>\n",
       "                        <td id=\"T_02193510_9391_11eb_96b5_97f8bd0cb744row1_col2\" class=\"data row1 col2\" >$50.76</td>\n",
       "            </tr>\n",
       "            <tr>\n",
       "                        <th id=\"T_02193510_9391_11eb_96b5_97f8bd0cb744level0_row2\" class=\"row_heading level0 row2\" >82</th>\n",
       "                        <th id=\"T_02193510_9391_11eb_96b5_97f8bd0cb744level1_row2\" class=\"row_heading level1 row2\" >Nirvana</th>\n",
       "                        <td id=\"T_02193510_9391_11eb_96b5_97f8bd0cb744row2_col0\" class=\"data row2 col0\" >9</td>\n",
       "                        <td id=\"T_02193510_9391_11eb_96b5_97f8bd0cb744row2_col1\" class=\"data row2 col1\" >$4.90</td>\n",
       "                        <td id=\"T_02193510_9391_11eb_96b5_97f8bd0cb744row2_col2\" class=\"data row2 col2\" >$44.10</td>\n",
       "            </tr>\n",
       "            <tr>\n",
       "                        <th id=\"T_02193510_9391_11eb_96b5_97f8bd0cb744level0_row3\" class=\"row_heading level0 row3\" >145</th>\n",
       "                        <th id=\"T_02193510_9391_11eb_96b5_97f8bd0cb744level1_row3\" class=\"row_heading level1 row3\" >Fiery Glass Crusader</th>\n",
       "                        <td id=\"T_02193510_9391_11eb_96b5_97f8bd0cb744row3_col0\" class=\"data row3 col0\" >9</td>\n",
       "                        <td id=\"T_02193510_9391_11eb_96b5_97f8bd0cb744row3_col1\" class=\"data row3 col1\" >$4.58</td>\n",
       "                        <td id=\"T_02193510_9391_11eb_96b5_97f8bd0cb744row3_col2\" class=\"data row3 col2\" >$41.22</td>\n",
       "            </tr>\n",
       "            <tr>\n",
       "                        <th id=\"T_02193510_9391_11eb_96b5_97f8bd0cb744level0_row4\" class=\"row_heading level0 row4\" >103</th>\n",
       "                        <th id=\"T_02193510_9391_11eb_96b5_97f8bd0cb744level1_row4\" class=\"row_heading level1 row4\" >Singed Scalpel</th>\n",
       "                        <td id=\"T_02193510_9391_11eb_96b5_97f8bd0cb744row4_col0\" class=\"data row4 col0\" >8</td>\n",
       "                        <td id=\"T_02193510_9391_11eb_96b5_97f8bd0cb744row4_col1\" class=\"data row4 col1\" >$4.35</td>\n",
       "                        <td id=\"T_02193510_9391_11eb_96b5_97f8bd0cb744row4_col2\" class=\"data row4 col2\" >$34.80</td>\n",
       "            </tr>\n",
       "    </tbody></table>"
      ],
      "text/plain": [
       "<pandas.io.formats.style.Styler at 0x25f3b52ab80>"
      ]
     },
     "execution_count": 15,
     "metadata": {},
     "output_type": "execute_result"
    }
   ],
   "source": [
    "#converts dictionary to dataframe specifies preview of top entries and sort values by descending total purchase value\n",
    "toppf = pd.DataFrame(topitemsdic).sort_values(\"Total Purchase Value\", ascending = False).head()\n",
    "\n",
    "#displays formatted dataframe\n",
    "toppf.style.format({'Item Price': '${:.2f}', 'Total Purchase Value': '${:.2f}'})"
   ]
  },
  {
   "cell_type": "markdown",
   "metadata": {},
   "source": [
    "<h1>Data Observations</h1>\n",
    "<br>\n",
    "\n",
    "<h3>1. Age Demographics</h3><br>\n",
    "Based on analysis of age demographics the 20 - 24 age group contains the highest percentage of players, almost 45% of total players. This age group is also the 3rd highest average total purchase per person group, after the 35-39 and under 10 group. The total value of purchases made by this group is \\$1114.06 which is almost 47% of total purchase value. This makes this age group a valuable demographic to target for marketing of the game and ingame purchases. The average item price purchased was \\$3.05 with only \\$4.35 per player which shows that on average a player in this demographic is currently only making a single purchase.\n",
    "\n",
    "<h3>2. Player Purchasing Statistics</h3><br>\n",
    "Based on analysis of the top purchasing players no single player is disproportionality skewing purchase data with large numbers of purchases. The top 5 players only purchasing a max number of items of 5 and a total value of \\$18.96. This means that using the purchasing statistics derived from this data is robust against purchasing outliers. It also indicates that the total revenue of the game is not heavily reliant on a small group of people which means loss of interest from the top spenders won't heavily impact revenue but also could mean that players are not invested enough in the game to make repeated purchases.\n",
    "\n",
    "<h3>3. Item Purchasing Statistics</h3><br>\n",
    "The average item price was \\$3.05 and the top 5 purchased items were above the average price indicating that players were attracted to and willing to purchase the higher priced items. However no single item made up the bulk of purchases with the top item only purchased 13 times. This could also indicate that the items were percieved by the majority of players to be priced to high for the in game value. The top 10 most purchased items were all over \\$2 which also suggests that cheaper items were not made desirable enough for players to purchase. Another factor could be that purchased items appear to be specific weapon names which probably require a single purchase per player and remain a permanent feature for the player. \n",
    "\n",
    "\n",
    "<h2>Summary</h2><br>\n",
    "In conclusion, it may be considered more profitable for the game to have items percieved as desirable for the 20 - 24 age demographic set at a lower price to elicit more frequent purchases and to also have these items as non-permenant features that deliver a short-term benifit for players.\n"
   ]
  },
  {
   "cell_type": "code",
   "execution_count": null,
   "metadata": {},
   "outputs": [],
   "source": []
  }
 ],
 "metadata": {
  "kernelspec": {
   "display_name": "Python 3",
   "language": "python",
   "name": "python3"
  },
  "language_info": {
   "codemirror_mode": {
    "name": "ipython",
    "version": 3
   },
   "file_extension": ".py",
   "mimetype": "text/x-python",
   "name": "python",
   "nbconvert_exporter": "python",
   "pygments_lexer": "ipython3",
   "version": "3.8.5"
  }
 },
 "nbformat": 4,
 "nbformat_minor": 4
}
